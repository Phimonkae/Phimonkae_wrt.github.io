{
 "cells": [
  {
   "cell_type": "code",
   "execution_count": 15,
   "metadata": {},
   "outputs": [],
   "source": [
    "import pandas as pd\n",
    "pd.set_option('display.max_columns', None)  # or 1000\n",
    "pd.set_option('display.max_rows', None)  # or 1000\n",
    "pd.set_option('display.max_colwidth', None)  # or 199\n",
    "\n",
    "import random\n",
    "random.seed(10)\n",
    "\n",
    "\n",
    "import numpy as np\n",
    "import matplotlib.pyplot as plt\n",
    "import seaborn as sns\n",
    "\n",
    "import scipy\n",
    "from scipy.stats import uniform\n",
    "import scipy.stats as st\n",
    "\n",
    "\n",
    "import sklearn\n",
    "from sklearn.preprocessing import LabelEncoder\n",
    "from sklearn.preprocessing import OneHotEncoder\n",
    "from sklearn.model_selection import train_test_split\n",
    "from sklearn.linear_model import LogisticRegression\n",
    "from sklearn.linear_model import LinearRegression\n",
    "from sklearn.tree import DecisionTreeClassifier\n",
    "from sklearn.tree import DecisionTreeRegressor\n",
    "from sklearn.ensemble import AdaBoostClassifier\n",
    "from sklearn.ensemble import AdaBoostRegressor\n",
    "from sklearn.ensemble import RandomForestClassifier\n",
    "from sklearn.ensemble import RandomForestRegressor\n",
    "from sklearn.linear_model import SGDRegressor\n",
    "from sklearn.linear_model import GammaRegressor\n",
    "from sklearn import svm\n",
    "from sklearn.linear_model import Ridge\n",
    "from sklearn.model_selection import RandomizedSearchCV\n",
    "from sklearn.model_selection import GridSearchCV\n",
    "\n",
    "\n",
    "from sklearn.metrics import explained_variance_score\n",
    "from sklearn.metrics import mean_absolute_error\n",
    "from sklearn import metrics\n"
   ]
  },
  {
   "cell_type": "markdown",
   "metadata": {},
   "source": [
    "# Track 1 - Spend Analysis"
   ]
  },
  {
   "cell_type": "code",
   "execution_count": 169,
   "metadata": {},
   "outputs": [
    {
     "data": {
      "text/html": [
       "<div>\n",
       "<style scoped>\n",
       "    .dataframe tbody tr th:only-of-type {\n",
       "        vertical-align: middle;\n",
       "    }\n",
       "\n",
       "    .dataframe tbody tr th {\n",
       "        vertical-align: top;\n",
       "    }\n",
       "\n",
       "    .dataframe thead th {\n",
       "        text-align: right;\n",
       "    }\n",
       "</style>\n",
       "<table border=\"1\" class=\"dataframe\">\n",
       "  <thead>\n",
       "    <tr style=\"text-align: right;\">\n",
       "      <th></th>\n",
       "      <th>id</th>\n",
       "      <th>POS</th>\n",
       "      <th>Region</th>\n",
       "      <th>Origin</th>\n",
       "      <th>Market</th>\n",
       "      <th>Airline</th>\n",
       "      <th>Spend</th>\n",
       "      <th>Segments</th>\n",
       "      <th>Discount</th>\n",
       "      <th>Savings</th>\n",
       "      <th>Airport_1</th>\n",
       "      <th>Airport_2</th>\n",
       "      <th>Market_type</th>\n",
       "      <th>Market_Competition</th>\n",
       "      <th>predicted_savings</th>\n",
       "    </tr>\n",
       "  </thead>\n",
       "  <tbody>\n",
       "    <tr>\n",
       "      <th>0</th>\n",
       "      <td>1</td>\n",
       "      <td>US</td>\n",
       "      <td>NAMR</td>\n",
       "      <td>JFK</td>\n",
       "      <td>GRU-JFK</td>\n",
       "      <td>American Air</td>\n",
       "      <td>193268</td>\n",
       "      <td>43</td>\n",
       "      <td>0.0</td>\n",
       "      <td>0</td>\n",
       "      <td>Brazil</td>\n",
       "      <td>United States</td>\n",
       "      <td>International</td>\n",
       "      <td>Competitive</td>\n",
       "      <td>0</td>\n",
       "    </tr>\n",
       "    <tr>\n",
       "      <th>1</th>\n",
       "      <td>2</td>\n",
       "      <td>US</td>\n",
       "      <td>NAMR</td>\n",
       "      <td>JFK</td>\n",
       "      <td>JFK-JNB</td>\n",
       "      <td>South Africa</td>\n",
       "      <td>134661</td>\n",
       "      <td>23</td>\n",
       "      <td>0.0</td>\n",
       "      <td>0</td>\n",
       "      <td>United States</td>\n",
       "      <td>South Africa</td>\n",
       "      <td>International</td>\n",
       "      <td>Uncompetitive</td>\n",
       "      <td>0</td>\n",
       "    </tr>\n",
       "    <tr>\n",
       "      <th>2</th>\n",
       "      <td>3</td>\n",
       "      <td>BE</td>\n",
       "      <td>EURO</td>\n",
       "      <td>BRU</td>\n",
       "      <td>BRU-JFK</td>\n",
       "      <td>Delta Air Lines</td>\n",
       "      <td>123421</td>\n",
       "      <td>48</td>\n",
       "      <td>0.0</td>\n",
       "      <td>0</td>\n",
       "      <td>Belgium</td>\n",
       "      <td>United States</td>\n",
       "      <td>International</td>\n",
       "      <td>Highly Competitive</td>\n",
       "      <td>0</td>\n",
       "    </tr>\n",
       "    <tr>\n",
       "      <th>3</th>\n",
       "      <td>4</td>\n",
       "      <td>US</td>\n",
       "      <td>NAMR</td>\n",
       "      <td>JFK</td>\n",
       "      <td>GRU-JFK</td>\n",
       "      <td>Delta Air Lines</td>\n",
       "      <td>78410</td>\n",
       "      <td>16</td>\n",
       "      <td>0.0</td>\n",
       "      <td>0</td>\n",
       "      <td>Brazil</td>\n",
       "      <td>United States</td>\n",
       "      <td>International</td>\n",
       "      <td>Competitive</td>\n",
       "      <td>0</td>\n",
       "    </tr>\n",
       "    <tr>\n",
       "      <th>4</th>\n",
       "      <td>5</td>\n",
       "      <td>BE</td>\n",
       "      <td>EURO</td>\n",
       "      <td>BLR</td>\n",
       "      <td>BLR-GRU</td>\n",
       "      <td>Emirates</td>\n",
       "      <td>47072</td>\n",
       "      <td>9</td>\n",
       "      <td>0.0</td>\n",
       "      <td>0</td>\n",
       "      <td>India</td>\n",
       "      <td>Brazil</td>\n",
       "      <td>International</td>\n",
       "      <td>Uncompetitive</td>\n",
       "      <td>0</td>\n",
       "    </tr>\n",
       "  </tbody>\n",
       "</table>\n",
       "</div>"
      ],
      "text/plain": [
       "   id POS Region Origin   Market          Airline   Spend  Segments  Discount  \\\n",
       "0   1  US   NAMR    JFK  GRU-JFK     American Air  193268        43       0.0   \n",
       "1   2  US   NAMR    JFK  JFK-JNB     South Africa  134661        23       0.0   \n",
       "2   3  BE   EURO    BRU  BRU-JFK  Delta Air Lines  123421        48       0.0   \n",
       "3   4  US   NAMR    JFK  GRU-JFK  Delta Air Lines   78410        16       0.0   \n",
       "4   5  BE   EURO    BLR  BLR-GRU         Emirates   47072         9       0.0   \n",
       "\n",
       "   Savings      Airport_1      Airport_2    Market_type  Market_Competition  \\\n",
       "0        0         Brazil  United States  International         Competitive   \n",
       "1        0  United States   South Africa  International       Uncompetitive   \n",
       "2        0        Belgium  United States  International  Highly Competitive   \n",
       "3        0         Brazil  United States  International         Competitive   \n",
       "4        0          India         Brazil  International       Uncompetitive   \n",
       "\n",
       "   predicted_savings  \n",
       "0                  0  \n",
       "1                  0  \n",
       "2                  0  \n",
       "3                  0  \n",
       "4                  0  "
      ]
     },
     "execution_count": 169,
     "metadata": {},
     "output_type": "execute_result"
    }
   ],
   "source": [
    "df = pd.read_excel('master_file_markets_data_v2.0.xlsx')\n",
    "\n",
    "#df = df.drop('Unnamed: 0', axis = 1)\n",
    "df.head()"
   ]
  },
  {
   "cell_type": "markdown",
   "metadata": {},
   "source": [
    "# Savings Predictions for Sub-optimal markets"
   ]
  },
  {
   "cell_type": "code",
   "execution_count": 212,
   "metadata": {
    "scrolled": true
   },
   "outputs": [
    {
     "name": "stdout",
     "output_type": "stream",
     "text": [
      "Model training completed completed for:  RandomForestRegressor(bootstrap=False, max_depth=10, max_features=4,\n",
      "                      n_estimators=300)\n"
     ]
    },
    {
     "data": {
      "text/html": [
       "<div>\n",
       "<style scoped>\n",
       "    .dataframe tbody tr th:only-of-type {\n",
       "        vertical-align: middle;\n",
       "    }\n",
       "\n",
       "    .dataframe tbody tr th {\n",
       "        vertical-align: top;\n",
       "    }\n",
       "\n",
       "    .dataframe thead th {\n",
       "        text-align: right;\n",
       "    }\n",
       "</style>\n",
       "<table border=\"1\" class=\"dataframe\">\n",
       "  <thead>\n",
       "    <tr style=\"text-align: right;\">\n",
       "      <th></th>\n",
       "      <th>model</th>\n",
       "      <th>score_accuracy</th>\n",
       "      <th>score_explained_variance</th>\n",
       "      <th>score_mean_absolute_error</th>\n",
       "    </tr>\n",
       "  </thead>\n",
       "  <tbody>\n",
       "    <tr>\n",
       "      <th>0</th>\n",
       "      <td>RandomForestRegressor(bootstrap=False, max_depth=10, max_features=4,\\n                      n_estimators=300)</td>\n",
       "      <td>0.57</td>\n",
       "      <td>0.57</td>\n",
       "      <td>85.91</td>\n",
       "    </tr>\n",
       "  </tbody>\n",
       "</table>\n",
       "</div>"
      ],
      "text/plain": [
       "                                                                                                           model  \\\n",
       "0  RandomForestRegressor(bootstrap=False, max_depth=10, max_features=4,\\n                      n_estimators=300)   \n",
       "\n",
       "   score_accuracy  score_explained_variance  score_mean_absolute_error  \n",
       "0            0.57                      0.57                      85.91  "
      ]
     },
     "execution_count": 212,
     "metadata": {},
     "output_type": "execute_result"
    }
   ],
   "source": [
    "dffull = pd.read_excel('master_file_markets_data_v2.0.xlsx')\n",
    "dfcopy = dffull.copy()\n",
    "\n",
    "#dropping columns that are not required, dropping markets with zero savings\n",
    "#df = dffull.drop('id', axis = 1)\n",
    "df = dffull.loc[dffull.Savings != 0] #training and testing set\n",
    "\n",
    "# Definitions of training and testing data\n",
    "# Validation data will only be suboptimal markets where, Savings = 0\n",
    "\n",
    "df = df[['Segments','Spend','Market_type','Market_Competition','Savings']]\n",
    "\n",
    "\n",
    "# Feature Encoding for machine learnign training\n",
    "\n",
    "# Label Encoding\n",
    "le = LabelEncoder()\n",
    "df.Market_type = le.fit_transform(df.Market_type)\n",
    "df.Market_Competition = le.fit_transform(df.Market_Competition)\n",
    "\n",
    "'''\n",
    "# One Hot Encoding\n",
    "\n",
    "OneHotEncoder(\n",
    "    categories='auto',  # Categories per feature\n",
    "    drop=None, # Whether to drop one of the features\n",
    "    sparse=True, # Will return sparse matrix if set True\n",
    "    handle_unknown='error' # Whether to raise an error \n",
    ")        \n",
    "\n",
    "ohe = OneHotEncoder() \n",
    "\n",
    "\n",
    "#OHE Encoding for column: POS\n",
    "transformed = ohe.fit_transform(df[['POS']])\n",
    "transformed = pd.DataFrame(data = transformed.toarray(), columns = ohe.get_feature_names())\n",
    "df = df.drop('POS', axis = 1)\n",
    "df = pd.concat([df, transformed], axis=1, join=\"inner\")\n",
    "\n",
    "\n",
    "#OHE Encoding for column: Region\n",
    "transformed = ohe.fit_transform(df[['Region']])\n",
    "transformed = pd.DataFrame(data = transformed.toarray(), columns = ohe.get_feature_names())\n",
    "df = df.drop('Region', axis = 1)\n",
    "df = pd.concat([df, transformed], axis=1, join=\"inner\")\n",
    "\n",
    "'''\n",
    "\n",
    "# Extreme value removel\n",
    "df = df.loc[df.Savings <= 5000]\n",
    "\n",
    "# Standardisation and Normalisation for machine learnign training\n",
    "\n",
    "\n",
    "# target \n",
    "#y = pd.DataFrame(data = dftest['y'])\n",
    "y = df['Savings']\n",
    "\n",
    "#features\n",
    "x = df.drop('Savings', axis = 1)\n",
    "\n",
    "# train and test sets\n",
    "xtrain, xtest, ytrain, ytest = train_test_split(x, y, test_size = 0.3, shuffle = True)\n",
    "\n",
    "\n",
    "# MODELLING\n",
    "\n",
    "# Model Definitions List\n",
    "\n",
    "model_list = [RandomForestRegressor(n_estimators = 300, bootstrap = False, max_depth = 10, max_features = 4)]\n",
    "\n",
    "#result storing lists; later to be used to generate dfresults dataframe\n",
    "model_def = []\n",
    "score_accuracy_list = []\n",
    "score_explainedvariance_list = []\n",
    "score_meanabsoluteerror_list = []\n",
    "\n",
    "    \n",
    "# storing model functions; later to be used in dfresults dataframe\n",
    "for model in model_list:\n",
    "    text = str(model)\n",
    "    #model_type = text.split(\".\")[-1].split(\"'\")[0]\n",
    "    model_type = text\n",
    "    model_def.append(model_type)\n",
    "\n",
    "    \n",
    "# model fitting and testing loop\n",
    "\n",
    "for model in model_list: \n",
    "    \n",
    "    #fitting\n",
    "    fitted_model = model.fit(xtrain,ytrain)\n",
    "    \n",
    "    print('Model training completed completed for: ', model)\n",
    "    \n",
    "    ypred = fitted_model.predict(xtest)\n",
    "    \n",
    "    # scoring\n",
    "    \n",
    "    \n",
    "    score_accuracy_list.append(fitted_model.score(xtest,ytest)) #calculate and append Accuracy\n",
    "    score_explainedvariance_list.append(explained_variance_score(ytest,ypred)) #calculate and append R2 score\n",
    "    score_meanabsoluteerror_list.append(mean_absolute_error(ytest,ypred)) #calculate and append R2 score\n",
    "\n",
    "\n",
    "# Result storing - temporary\n",
    "    \n",
    "# result dataframe genertor, dfresults will be over written for new training runs\n",
    "dfresults = pd.DataFrame(data = {'model':model_def, 'score_accuracy':score_accuracy_list, \n",
    "                                 'score_explained_variance':score_explainedvariance_list, \n",
    "                                 'score_mean_absolute_error':score_meanabsoluteerror_list})\n",
    "\n",
    "\n",
    "# Result storing - permanent\n",
    " \n",
    "#create a master file to store all results after training runs\n",
    "#this below code needs to be seperated from training run cell\n",
    "#re-executing the creation of dfresults_master will overwrite the dataframe\n",
    "\n",
    "#load external csv file for result storage\n",
    "dfresults_master = pd.read_csv('dfresults_master.csv')\n",
    "\n",
    "#pre_processing dfresults_master to remove unnamed columns\n",
    "Unname_columns_list = []\n",
    "for column in dfresults_master.columns.to_list():\n",
    "    if 'Unnamed' in column:\n",
    "        Unname_columns_list.append(column)\n",
    "dfresults_master = dfresults_master.drop(Unname_columns_list, axis = 1)\n",
    "\n",
    "#append dataframe with results\n",
    "dfresults_master = dfresults_master.append(dfresults) # stroing model testing scores into master dataframe\n",
    "dfresults_master = dfresults_master[1:] #removing dummy observation \n",
    "\n",
    "#Removing any unknown columns that may have been appended\n",
    "Unname_columns_list = []\n",
    "for column in dfresults_master.columns.to_list():\n",
    "    if 'Unnamed' in column:\n",
    "        Unname_columns_list.append(column)\n",
    "\n",
    "dfresults_master = dfresults_master.drop(Unname_columns_list, axis = 1)\n",
    "\n",
    "#replace orgininally loaded file with new dataframe export\n",
    "dfresults_master.to_csv('dfresults_master.csv')\n",
    "\n",
    "dfresults\n",
    "\n",
    "#results need to be stored in dfresults_master for premanent record of all models trained"
   ]
  },
  {
   "cell_type": "code",
   "execution_count": 76,
   "metadata": {},
   "outputs": [
    {
     "data": {
      "text/plain": [
       "['Segments', 'Spend', 'Market_type', 'Market_Competition']"
      ]
     },
     "execution_count": 76,
     "metadata": {},
     "output_type": "execute_result"
    }
   ],
   "source": [
    "xtrain.head().columns.to_list()"
   ]
  },
  {
   "cell_type": "code",
   "execution_count": 74,
   "metadata": {},
   "outputs": [
    {
     "data": {
      "text/plain": [
       "array([-1.95452335,  0.09651443, 90.82897186, -6.29334807])"
      ]
     },
     "execution_count": 74,
     "metadata": {},
     "output_type": "execute_result"
    }
   ],
   "source": [
    "fitted_model.coef_"
   ]
  },
  {
   "cell_type": "code",
   "execution_count": 240,
   "metadata": {},
   "outputs": [],
   "source": [
    "# SAVING AND LOADING THE fitted_model\n",
    "\n",
    "model_file_name = 'model_RandomForestRegressor_v2_11-27-22.sav'\n",
    "pickle.dump(fitted_model, open(model_file_name, 'wb'))\n",
    "\n",
    "# load the model from disk\n",
    "#fitted_model = pickle.load(open(filename, 'rb'))"
   ]
  },
  {
   "cell_type": "code",
   "execution_count": 202,
   "metadata": {
    "scrolled": true
   },
   "outputs": [
    {
     "data": {
      "text/html": [
       "<div>\n",
       "<style scoped>\n",
       "    .dataframe tbody tr th:only-of-type {\n",
       "        vertical-align: middle;\n",
       "    }\n",
       "\n",
       "    .dataframe tbody tr th {\n",
       "        vertical-align: top;\n",
       "    }\n",
       "\n",
       "    .dataframe thead th {\n",
       "        text-align: right;\n",
       "    }\n",
       "</style>\n",
       "<table border=\"1\" class=\"dataframe\">\n",
       "  <thead>\n",
       "    <tr style=\"text-align: right;\">\n",
       "      <th></th>\n",
       "      <th>Savings</th>\n",
       "    </tr>\n",
       "  </thead>\n",
       "  <tbody>\n",
       "    <tr>\n",
       "      <th>count</th>\n",
       "      <td>4427.000</td>\n",
       "    </tr>\n",
       "    <tr>\n",
       "      <th>mean</th>\n",
       "      <td>149.910</td>\n",
       "    </tr>\n",
       "    <tr>\n",
       "      <th>std</th>\n",
       "      <td>396.965</td>\n",
       "    </tr>\n",
       "    <tr>\n",
       "      <th>min</th>\n",
       "      <td>1.000</td>\n",
       "    </tr>\n",
       "    <tr>\n",
       "      <th>25%</th>\n",
       "      <td>13.000</td>\n",
       "    </tr>\n",
       "    <tr>\n",
       "      <th>50%</th>\n",
       "      <td>33.000</td>\n",
       "    </tr>\n",
       "    <tr>\n",
       "      <th>75%</th>\n",
       "      <td>96.000</td>\n",
       "    </tr>\n",
       "    <tr>\n",
       "      <th>max</th>\n",
       "      <td>4944.000</td>\n",
       "    </tr>\n",
       "  </tbody>\n",
       "</table>\n",
       "</div>"
      ],
      "text/plain": [
       "        Savings\n",
       "count  4427.000\n",
       "mean    149.910\n",
       "std     396.965\n",
       "min       1.000\n",
       "25%      13.000\n",
       "50%      33.000\n",
       "75%      96.000\n",
       "max    4944.000"
      ]
     },
     "execution_count": 202,
     "metadata": {},
     "output_type": "execute_result"
    }
   ],
   "source": [
    "ytest = pd.DataFrame(data = ytest)\n",
    "ytest.describe()"
   ]
  },
  {
   "cell_type": "code",
   "execution_count": 213,
   "metadata": {
    "scrolled": true
   },
   "outputs": [
    {
     "data": {
      "text/html": [
       "<div>\n",
       "<style scoped>\n",
       "    .dataframe tbody tr th:only-of-type {\n",
       "        vertical-align: middle;\n",
       "    }\n",
       "\n",
       "    .dataframe tbody tr th {\n",
       "        vertical-align: top;\n",
       "    }\n",
       "\n",
       "    .dataframe thead th {\n",
       "        text-align: right;\n",
       "    }\n",
       "</style>\n",
       "<table border=\"1\" class=\"dataframe\">\n",
       "  <thead>\n",
       "    <tr style=\"text-align: right;\">\n",
       "      <th></th>\n",
       "      <th>ypred</th>\n",
       "    </tr>\n",
       "  </thead>\n",
       "  <tbody>\n",
       "    <tr>\n",
       "      <th>count</th>\n",
       "      <td>4427.000</td>\n",
       "    </tr>\n",
       "    <tr>\n",
       "      <th>mean</th>\n",
       "      <td>155.838</td>\n",
       "    </tr>\n",
       "    <tr>\n",
       "      <th>std</th>\n",
       "      <td>402.266</td>\n",
       "    </tr>\n",
       "    <tr>\n",
       "      <th>min</th>\n",
       "      <td>3.429</td>\n",
       "    </tr>\n",
       "    <tr>\n",
       "      <th>25%</th>\n",
       "      <td>17.503</td>\n",
       "    </tr>\n",
       "    <tr>\n",
       "      <th>50%</th>\n",
       "      <td>36.896</td>\n",
       "    </tr>\n",
       "    <tr>\n",
       "      <th>75%</th>\n",
       "      <td>110.181</td>\n",
       "    </tr>\n",
       "    <tr>\n",
       "      <th>max</th>\n",
       "      <td>4764.000</td>\n",
       "    </tr>\n",
       "  </tbody>\n",
       "</table>\n",
       "</div>"
      ],
      "text/plain": [
       "          ypred\n",
       "count  4427.000\n",
       "mean    155.838\n",
       "std     402.266\n",
       "min       3.429\n",
       "25%      17.503\n",
       "50%      36.896\n",
       "75%     110.181\n",
       "max    4764.000"
      ]
     },
     "execution_count": 213,
     "metadata": {},
     "output_type": "execute_result"
    }
   ],
   "source": [
    "ypred = pd.DataFrame(data = ypred, columns = ['ypred'])\n",
    "ypred.describe()"
   ]
  },
  {
   "cell_type": "code",
   "execution_count": 221,
   "metadata": {},
   "outputs": [
    {
     "data": {
      "image/png": "[encoded data removed]",
      "text/plain": [
       "<Figure size 432x288 with 1 Axes>"
      ]
     },
     "metadata": {
      "needs_background": "light"
     },
     "output_type": "display_data"
    }
   ],
   "source": [
    "plt.hist(ytest, label = 'ytest')\n",
    "plt.hist(ypred, label = 'ypred', color = 'seagreen', alpha = 0.4)\n",
    "plt.xlim(0,2000)\n",
    "plt.legend()\n",
    "plt.title('Distributions of actual and predicted savings')\n",
    "plt.show()"
   ]
  },
  {
   "cell_type": "markdown",
   "metadata": {},
   "source": [
    "# Model Optimization"
   ]
  },
  {
   "cell_type": "code",
   "execution_count": 62,
   "metadata": {},
   "outputs": [
    {
     "name": "stdout",
     "output_type": "stream",
     "text": [
      "CPU times: user 50.6 s, sys: 796 ms, total: 51.4 s\n",
      "Wall time: 51.6 s\n"
     ]
    },
    {
     "data": {
      "text/plain": [
       "GridSearchCV(estimator=RandomForestRegressor(),\n",
       "             param_grid={'bootstrap': ['False'], 'max_depth': [10, 15],\n",
       "                         'max_features': [4, 2], 'n_estimators': [300]})"
      ]
     },
     "execution_count": 62,
     "metadata": {},
     "output_type": "execute_result"
    }
   ],
   "source": [
    "%%time\n",
    "# Creating a dictionary to define hyperparameter search range\n",
    "\n",
    "model = RandomForestRegressor()\n",
    "\n",
    "# 'criterion' : [\"squared_error\",\"absolute_error\",\"poisson\"]\n",
    "\n",
    "hyper_parameter_range = {'n_estimators' : [300],\n",
    "                 'max_depth' : [10,15],\n",
    "                 'max_features' : [4,2],\n",
    "                 'bootstrap' : ['False']\n",
    "                        }\n",
    "\n",
    "search_optimizer = GridSearchCV(model, hyper_parameter_range)\n",
    "\n",
    "search_optimizer.fit(x,y)"
   ]
  },
  {
   "cell_type": "code",
   "execution_count": 64,
   "metadata": {},
   "outputs": [
    {
     "data": {
      "text/plain": [
       "{'bootstrap': 'False', 'max_depth': 10, 'max_features': 4, 'n_estimators': 300}"
      ]
     },
     "execution_count": 64,
     "metadata": {},
     "output_type": "execute_result"
    }
   ],
   "source": [
    "search_optimizer.best_params_"
   ]
  },
  {
   "cell_type": "markdown",
   "metadata": {},
   "source": [
    "# Results Master Analysis for Model Selection"
   ]
  },
  {
   "cell_type": "code",
   "execution_count": 55,
   "metadata": {},
   "outputs": [],
   "source": [
    "# full data export within predictions for sub-optimal markets included\n",
    "dffull.to_excel('master_file_predictions_v0.xlsx')"
   ]
  },
  {
   "cell_type": "code",
   "execution_count": 10,
   "metadata": {
    "scrolled": true
   },
   "outputs": [
    {
     "name": "stdout",
     "output_type": "stream",
     "text": [
      "                                 model  score_accuracy  \\\n",
      "0                  AdaBoostRegressor()           0.541   \n",
      "1  AdaBoostRegressor(n_estimators=100)           0.538   \n",
      "2  AdaBoostRegressor(n_estimators=150)           0.540   \n",
      "3  AdaBoostRegressor(n_estimators=200)           0.513   \n",
      "4  AdaBoostRegressor(n_estimators=250)           0.532   \n",
      "\n",
      "   score_explained_variance  score_mean_absolute_error  \n",
      "0                     0.554                    308.049  \n",
      "1                     0.550                    306.834  \n",
      "2                     0.551                    306.767  \n",
      "3                     0.529                    313.742  \n",
      "4                     0.541                    302.223  \n",
      "       score_accuracy  score_explained_variance  score_mean_absolute_error\n",
      "count          40.000                    40.000                     40.000\n",
      "mean            0.591                     0.593                    205.493\n",
      "std             0.063                     0.061                    104.674\n",
      "min             0.498                     0.498                     76.460\n",
      "25%             0.538                     0.545                     81.843\n",
      "50%             0.596                     0.598                    266.090\n",
      "75%             0.638                     0.638                    292.446\n",
      "max             0.704                     0.704                    313.742\n"
     ]
    }
   ],
   "source": [
    "dfresults_master = pd.read_csv('dfresults_master.csv')\n",
    "#Removing any unknown columns that may have been appended\n",
    "Unname_columns_list = []\n",
    "for column in dfresults_master.columns.to_list():\n",
    "    if 'Unnamed' in column:\n",
    "        Unname_columns_list.append(column)\n",
    "\n",
    "dfresults_master = dfresults_master.drop(Unname_columns_list, axis = 1)\n",
    "\n",
    "print(dfresults_master.head())\n",
    "\n",
    "print(dfresults_master.describe())"
   ]
  },
  {
   "cell_type": "code",
   "execution_count": 11,
   "metadata": {},
   "outputs": [
    {
     "data": {
      "text/html": [
       "<div>\n",
       "<style scoped>\n",
       "    .dataframe tbody tr th:only-of-type {\n",
       "        vertical-align: middle;\n",
       "    }\n",
       "\n",
       "    .dataframe tbody tr th {\n",
       "        vertical-align: top;\n",
       "    }\n",
       "\n",
       "    .dataframe thead th {\n",
       "        text-align: right;\n",
       "    }\n",
       "</style>\n",
       "<table border=\"1\" class=\"dataframe\">\n",
       "  <thead>\n",
       "    <tr style=\"text-align: right;\">\n",
       "      <th></th>\n",
       "      <th>score_accuracy</th>\n",
       "      <th>score_explained_variance</th>\n",
       "      <th>score_mean_absolute_error</th>\n",
       "    </tr>\n",
       "    <tr>\n",
       "      <th>model</th>\n",
       "      <th></th>\n",
       "      <th></th>\n",
       "      <th></th>\n",
       "    </tr>\n",
       "  </thead>\n",
       "  <tbody>\n",
       "    <tr>\n",
       "      <th>RandomForestRegressor(bootstrap=False, max_depth=4, max_features=4)</th>\n",
       "      <td>0.663</td>\n",
       "      <td>0.663</td>\n",
       "      <td>78.461</td>\n",
       "    </tr>\n",
       "    <tr>\n",
       "      <th>LinearRegression()</th>\n",
       "      <td>0.656</td>\n",
       "      <td>0.656</td>\n",
       "      <td>83.889</td>\n",
       "    </tr>\n",
       "    <tr>\n",
       "      <th>RandomForestRegressor()</th>\n",
       "      <td>0.615</td>\n",
       "      <td>0.615</td>\n",
       "      <td>167.441</td>\n",
       "    </tr>\n",
       "    <tr>\n",
       "      <th>RandomForestRegressor(n_estimators=200)</th>\n",
       "      <td>0.594</td>\n",
       "      <td>0.594</td>\n",
       "      <td>200.642</td>\n",
       "    </tr>\n",
       "    <tr>\n",
       "      <th>RandomForestRegressor(n_estimators=300)</th>\n",
       "      <td>0.593</td>\n",
       "      <td>0.593</td>\n",
       "      <td>201.149</td>\n",
       "    </tr>\n",
       "    <tr>\n",
       "      <th>RandomForestRegressor(n_estimators=250)</th>\n",
       "      <td>0.593</td>\n",
       "      <td>0.593</td>\n",
       "      <td>201.286</td>\n",
       "    </tr>\n",
       "    <tr>\n",
       "      <th>RandomForestRegressor(n_estimators=150)</th>\n",
       "      <td>0.591</td>\n",
       "      <td>0.592</td>\n",
       "      <td>201.831</td>\n",
       "    </tr>\n",
       "    <tr>\n",
       "      <th>RandomForestRegressor(n_estimators=50)</th>\n",
       "      <td>0.592</td>\n",
       "      <td>0.593</td>\n",
       "      <td>201.998</td>\n",
       "    </tr>\n",
       "    <tr>\n",
       "      <th>AdaBoostRegressor(n_estimators=250)</th>\n",
       "      <td>0.532</td>\n",
       "      <td>0.541</td>\n",
       "      <td>302.223</td>\n",
       "    </tr>\n",
       "    <tr>\n",
       "      <th>AdaBoostRegressor(n_estimators=150)</th>\n",
       "      <td>0.540</td>\n",
       "      <td>0.551</td>\n",
       "      <td>306.767</td>\n",
       "    </tr>\n",
       "    <tr>\n",
       "      <th>AdaBoostRegressor(n_estimators=100)</th>\n",
       "      <td>0.538</td>\n",
       "      <td>0.550</td>\n",
       "      <td>306.834</td>\n",
       "    </tr>\n",
       "    <tr>\n",
       "      <th>AdaBoostRegressor()</th>\n",
       "      <td>0.541</td>\n",
       "      <td>0.554</td>\n",
       "      <td>308.049</td>\n",
       "    </tr>\n",
       "    <tr>\n",
       "      <th>AdaBoostRegressor(n_estimators=300)</th>\n",
       "      <td>0.523</td>\n",
       "      <td>0.538</td>\n",
       "      <td>313.121</td>\n",
       "    </tr>\n",
       "    <tr>\n",
       "      <th>AdaBoostRegressor(n_estimators=200)</th>\n",
       "      <td>0.513</td>\n",
       "      <td>0.529</td>\n",
       "      <td>313.742</td>\n",
       "    </tr>\n",
       "  </tbody>\n",
       "</table>\n",
       "</div>"
      ],
      "text/plain": [
       "                                                                     score_accuracy  \\\n",
       "model                                                                                 \n",
       "RandomForestRegressor(bootstrap=False, max_depth=4, max_features=4)           0.663   \n",
       "LinearRegression()                                                            0.656   \n",
       "RandomForestRegressor()                                                       0.615   \n",
       "RandomForestRegressor(n_estimators=200)                                       0.594   \n",
       "RandomForestRegressor(n_estimators=300)                                       0.593   \n",
       "RandomForestRegressor(n_estimators=250)                                       0.593   \n",
       "RandomForestRegressor(n_estimators=150)                                       0.591   \n",
       "RandomForestRegressor(n_estimators=50)                                        0.592   \n",
       "AdaBoostRegressor(n_estimators=250)                                           0.532   \n",
       "AdaBoostRegressor(n_estimators=150)                                           0.540   \n",
       "AdaBoostRegressor(n_estimators=100)                                           0.538   \n",
       "AdaBoostRegressor()                                                           0.541   \n",
       "AdaBoostRegressor(n_estimators=300)                                           0.523   \n",
       "AdaBoostRegressor(n_estimators=200)                                           0.513   \n",
       "\n",
       "                                                                     score_explained_variance  \\\n",
       "model                                                                                           \n",
       "RandomForestRegressor(bootstrap=False, max_depth=4, max_features=4)                     0.663   \n",
       "LinearRegression()                                                                      0.656   \n",
       "RandomForestRegressor()                                                                 0.615   \n",
       "RandomForestRegressor(n_estimators=200)                                                 0.594   \n",
       "RandomForestRegressor(n_estimators=300)                                                 0.593   \n",
       "RandomForestRegressor(n_estimators=250)                                                 0.593   \n",
       "RandomForestRegressor(n_estimators=150)                                                 0.592   \n",
       "RandomForestRegressor(n_estimators=50)                                                  0.593   \n",
       "AdaBoostRegressor(n_estimators=250)                                                     0.541   \n",
       "AdaBoostRegressor(n_estimators=150)                                                     0.551   \n",
       "AdaBoostRegressor(n_estimators=100)                                                     0.550   \n",
       "AdaBoostRegressor()                                                                     0.554   \n",
       "AdaBoostRegressor(n_estimators=300)                                                     0.538   \n",
       "AdaBoostRegressor(n_estimators=200)                                                     0.529   \n",
       "\n",
       "                                                                     score_mean_absolute_error  \n",
       "model                                                                                           \n",
       "RandomForestRegressor(bootstrap=False, max_depth=4, max_features=4)                     78.461  \n",
       "LinearRegression()                                                                      83.889  \n",
       "RandomForestRegressor()                                                                167.441  \n",
       "RandomForestRegressor(n_estimators=200)                                                200.642  \n",
       "RandomForestRegressor(n_estimators=300)                                                201.149  \n",
       "RandomForestRegressor(n_estimators=250)                                                201.286  \n",
       "RandomForestRegressor(n_estimators=150)                                                201.831  \n",
       "RandomForestRegressor(n_estimators=50)                                                 201.998  \n",
       "AdaBoostRegressor(n_estimators=250)                                                    302.223  \n",
       "AdaBoostRegressor(n_estimators=150)                                                    306.767  \n",
       "AdaBoostRegressor(n_estimators=100)                                                    306.834  \n",
       "AdaBoostRegressor()                                                                    308.049  \n",
       "AdaBoostRegressor(n_estimators=300)                                                    313.121  \n",
       "AdaBoostRegressor(n_estimators=200)                                                    313.742  "
      ]
     },
     "execution_count": 11,
     "metadata": {},
     "output_type": "execute_result"
    }
   ],
   "source": [
    "dfresults_master.groupby([\"model\"]).mean().sort_values(by = ['score_mean_absolute_error'])"
   ]
  },
  {
   "cell_type": "markdown",
   "metadata": {},
   "source": [
    "# Producing Savings Estimates for Sub-optimal Markets"
   ]
  },
  {
   "cell_type": "code",
   "execution_count": null,
   "metadata": {
    "scrolled": true
   },
   "outputs": [],
   "source": [
    "\n",
    "\n",
    "counter = 0\n",
    "\n",
    "for id in dffull.index:\n",
    "    \n",
    "    \n",
    "    if dffull['Savings'][id] == 0:\n",
    "        \n",
    "        xtest = dffull[['Segments','Spend','Market_type','Market_Competition']][id:id+1]\n",
    "\n",
    "        # Feature Encoding for machine learnign training\n",
    "\n",
    "        # Label Encoding\n",
    "        le = LabelEncoder()\n",
    "        xtest.Market_type = le.fit_transform(xtest.Market_type)\n",
    "        xtest.Market_Competition = le.fit_transform(xtest.Market_Competition)\n",
    "        \n",
    "        ypred = int(fitted_model.predict(xtest))\n",
    "        \n",
    "        dffull['predicted_savings'][id:id+1] = ypred  \n",
    "        \n",
    "        print(dffull[id:id+1])"
   ]
  },
  {
   "cell_type": "code",
   "execution_count": null,
   "metadata": {},
   "outputs": [],
   "source": [
    "df.head()"
   ]
  },
  {
   "cell_type": "markdown",
   "metadata": {},
   "source": [
    "# Analysis of Predicted Savings (based on master_predictions_vx)"
   ]
  },
  {
   "cell_type": "code",
   "execution_count": 222,
   "metadata": {},
   "outputs": [],
   "source": [
    "df = pd.read_excel('master_file_predictions_v0.xlsx')"
   ]
  },
  {
   "cell_type": "code",
   "execution_count": 7,
   "metadata": {
    "scrolled": true
   },
   "outputs": [
    {
     "data": {
      "text/html": [
       "<div>\n",
       "<style scoped>\n",
       "    .dataframe tbody tr th:only-of-type {\n",
       "        vertical-align: middle;\n",
       "    }\n",
       "\n",
       "    .dataframe tbody tr th {\n",
       "        vertical-align: top;\n",
       "    }\n",
       "\n",
       "    .dataframe thead th {\n",
       "        text-align: right;\n",
       "    }\n",
       "</style>\n",
       "<table border=\"1\" class=\"dataframe\">\n",
       "  <thead>\n",
       "    <tr style=\"text-align: right;\">\n",
       "      <th></th>\n",
       "      <th>Unnamed: 0</th>\n",
       "      <th>id</th>\n",
       "      <th>POS</th>\n",
       "      <th>Region</th>\n",
       "      <th>Origin</th>\n",
       "      <th>Market</th>\n",
       "      <th>Airline</th>\n",
       "      <th>Spend</th>\n",
       "      <th>Segments</th>\n",
       "      <th>Discount</th>\n",
       "      <th>Savings</th>\n",
       "      <th>Airport_1</th>\n",
       "      <th>Airport_2</th>\n",
       "      <th>Market_type</th>\n",
       "      <th>Market_Competition</th>\n",
       "      <th>predicted_savings</th>\n",
       "      <th>net_savings</th>\n",
       "      <th>market_status</th>\n",
       "      <th>Unnamed: 18</th>\n",
       "      <th>Unnamed: 19</th>\n",
       "      <th>Unnamed: 20</th>\n",
       "      <th>Unnamed: 21</th>\n",
       "    </tr>\n",
       "  </thead>\n",
       "  <tbody>\n",
       "    <tr>\n",
       "      <th>0</th>\n",
       "      <td>34849</td>\n",
       "      <td>34850</td>\n",
       "      <td>US</td>\n",
       "      <td>NAMR</td>\n",
       "      <td>JFK</td>\n",
       "      <td>BRU-JFK</td>\n",
       "      <td>Delta Air Lines</td>\n",
       "      <td>252241</td>\n",
       "      <td>38</td>\n",
       "      <td>0.15</td>\n",
       "      <td>37836</td>\n",
       "      <td>Belgium</td>\n",
       "      <td>United States</td>\n",
       "      <td>International</td>\n",
       "      <td>Highly Competitive</td>\n",
       "      <td>0</td>\n",
       "      <td>37836</td>\n",
       "      <td>general</td>\n",
       "      <td>NaN</td>\n",
       "      <td>NaN</td>\n",
       "      <td>NaN</td>\n",
       "      <td>NaN</td>\n",
       "    </tr>\n",
       "    <tr>\n",
       "      <th>1</th>\n",
       "      <td>0</td>\n",
       "      <td>1</td>\n",
       "      <td>US</td>\n",
       "      <td>NAMR</td>\n",
       "      <td>JFK</td>\n",
       "      <td>GRU-JFK</td>\n",
       "      <td>American Air</td>\n",
       "      <td>193268</td>\n",
       "      <td>43</td>\n",
       "      <td>0.00</td>\n",
       "      <td>0</td>\n",
       "      <td>Brazil</td>\n",
       "      <td>United States</td>\n",
       "      <td>International</td>\n",
       "      <td>Competitive</td>\n",
       "      <td>3426</td>\n",
       "      <td>3426</td>\n",
       "      <td>sub_optimal</td>\n",
       "      <td>NaN</td>\n",
       "      <td>NaN</td>\n",
       "      <td>NaN</td>\n",
       "      <td>NaN</td>\n",
       "    </tr>\n",
       "    <tr>\n",
       "      <th>2</th>\n",
       "      <td>34845</td>\n",
       "      <td>34846</td>\n",
       "      <td>US</td>\n",
       "      <td>NAMR</td>\n",
       "      <td>JFK</td>\n",
       "      <td>GRU-JFK</td>\n",
       "      <td>Delta Air Lines</td>\n",
       "      <td>167728</td>\n",
       "      <td>25</td>\n",
       "      <td>0.15</td>\n",
       "      <td>25159</td>\n",
       "      <td>Brazil</td>\n",
       "      <td>United States</td>\n",
       "      <td>International</td>\n",
       "      <td>Competitive</td>\n",
       "      <td>0</td>\n",
       "      <td>25159</td>\n",
       "      <td>general</td>\n",
       "      <td>NaN</td>\n",
       "      <td>NaN</td>\n",
       "      <td>NaN</td>\n",
       "      <td>NaN</td>\n",
       "    </tr>\n",
       "    <tr>\n",
       "      <th>3</th>\n",
       "      <td>34836</td>\n",
       "      <td>34837</td>\n",
       "      <td>US</td>\n",
       "      <td>NAMR</td>\n",
       "      <td>JFK</td>\n",
       "      <td>GRU-JFK</td>\n",
       "      <td>Delta Air Lines</td>\n",
       "      <td>166527</td>\n",
       "      <td>28</td>\n",
       "      <td>0.10</td>\n",
       "      <td>16653</td>\n",
       "      <td>Brazil</td>\n",
       "      <td>United States</td>\n",
       "      <td>International</td>\n",
       "      <td>Competitive</td>\n",
       "      <td>0</td>\n",
       "      <td>16653</td>\n",
       "      <td>general</td>\n",
       "      <td>NaN</td>\n",
       "      <td>NaN</td>\n",
       "      <td>NaN</td>\n",
       "      <td>NaN</td>\n",
       "    </tr>\n",
       "    <tr>\n",
       "      <th>4</th>\n",
       "      <td>34850</td>\n",
       "      <td>34851</td>\n",
       "      <td>US</td>\n",
       "      <td>NAMR</td>\n",
       "      <td>JFK</td>\n",
       "      <td>GRU-JFK</td>\n",
       "      <td>Delta Air Lines</td>\n",
       "      <td>143130</td>\n",
       "      <td>25</td>\n",
       "      <td>0.39</td>\n",
       "      <td>55821</td>\n",
       "      <td>Brazil</td>\n",
       "      <td>United States</td>\n",
       "      <td>International</td>\n",
       "      <td>Competitive</td>\n",
       "      <td>0</td>\n",
       "      <td>55821</td>\n",
       "      <td>general</td>\n",
       "      <td>NaN</td>\n",
       "      <td>NaN</td>\n",
       "      <td>NaN</td>\n",
       "      <td>NaN</td>\n",
       "    </tr>\n",
       "  </tbody>\n",
       "</table>\n",
       "</div>"
      ],
      "text/plain": [
       "   Unnamed: 0     id POS Region Origin   Market          Airline   Spend  \\\n",
       "0       34849  34850  US   NAMR    JFK  BRU-JFK  Delta Air Lines  252241   \n",
       "1           0      1  US   NAMR    JFK  GRU-JFK     American Air  193268   \n",
       "2       34845  34846  US   NAMR    JFK  GRU-JFK  Delta Air Lines  167728   \n",
       "3       34836  34837  US   NAMR    JFK  GRU-JFK  Delta Air Lines  166527   \n",
       "4       34850  34851  US   NAMR    JFK  GRU-JFK  Delta Air Lines  143130   \n",
       "\n",
       "   Segments  Discount  Savings Airport_1      Airport_2    Market_type  \\\n",
       "0        38      0.15    37836   Belgium  United States  International   \n",
       "1        43      0.00        0    Brazil  United States  International   \n",
       "2        25      0.15    25159    Brazil  United States  International   \n",
       "3        28      0.10    16653    Brazil  United States  International   \n",
       "4        25      0.39    55821    Brazil  United States  International   \n",
       "\n",
       "   Market_Competition  predicted_savings  net_savings market_status  \\\n",
       "0  Highly Competitive                  0        37836       general   \n",
       "1         Competitive               3426         3426   sub_optimal   \n",
       "2         Competitive                  0        25159       general   \n",
       "3         Competitive                  0        16653       general   \n",
       "4         Competitive                  0        55821       general   \n",
       "\n",
       "  Unnamed: 18 Unnamed: 19 Unnamed: 20 Unnamed: 21  \n",
       "0         NaN         NaN         NaN         NaN  \n",
       "1         NaN         NaN         NaN         NaN  \n",
       "2         NaN         NaN         NaN         NaN  \n",
       "3         NaN         NaN         NaN         NaN  \n",
       "4         NaN         NaN         NaN         NaN  "
      ]
     },
     "execution_count": 7,
     "metadata": {},
     "output_type": "execute_result"
    }
   ],
   "source": [
    "df.head()"
   ]
  },
  {
   "cell_type": "code",
   "execution_count": 190,
   "metadata": {
    "scrolled": true
   },
   "outputs": [
    {
     "data": {
      "image/png": "[encoded data removed]",
      "text/plain": [
       "<Figure size 432x288 with 1 Axes>"
      ]
     },
     "metadata": {
      "needs_background": "light"
     },
     "output_type": "display_data"
    }
   ],
   "source": [
    "plt.hist(df.Savings, bins = 100)\n",
    "plt.xlim(0,1000)\n",
    "plt.title('Distribution of Savings')\n",
    "plt.show()"
   ]
  },
  {
   "cell_type": "code",
   "execution_count": 196,
   "metadata": {
    "scrolled": true
   },
   "outputs": [
    {
     "data": {
      "image/png": "[encoded data removed]",
      "text/plain": [
       "<Figure size 432x288 with 1 Axes>"
      ]
     },
     "metadata": {
      "needs_background": "light"
     },
     "output_type": "display_data"
    }
   ],
   "source": [
    "plt.hist(df.predicted_savings, bins = 100, color = 'seagreen')\n",
    "plt.xlim(0,1000)\n",
    "plt.title('Distribution of predicted_savings')\n",
    "plt.show()"
   ]
  },
  {
   "cell_type": "code",
   "execution_count": 223,
   "metadata": {
    "scrolled": true
   },
   "outputs": [
    {
     "data": {
      "text/plain": [
       "2299665"
      ]
     },
     "execution_count": 223,
     "metadata": {},
     "output_type": "execute_result"
    }
   ],
   "source": [
    "df.predicted_savings.sum()"
   ]
  },
  {
   "cell_type": "code",
   "execution_count": 5,
   "metadata": {},
   "outputs": [
    {
     "name": "stdout",
     "output_type": "stream",
     "text": [
      "3046129\n"
     ]
    }
   ],
   "source": [
    "dfsav = df.loc[df.Savings != 0]\n",
    "print(dfsav.Savings.sum())"
   ]
  },
  {
   "cell_type": "code",
   "execution_count": null,
   "metadata": {},
   "outputs": [],
   "source": [
    "len(dfsav)"
   ]
  },
  {
   "cell_type": "code",
   "execution_count": null,
   "metadata": {},
   "outputs": [],
   "source": [
    "df.Spend.sum()"
   ]
  },
  {
   "cell_type": "code",
   "execution_count": 6,
   "metadata": {},
   "outputs": [],
   "source": [
    "dfsub = df.loc[df.Savings == 0]"
   ]
  },
  {
   "cell_type": "code",
   "execution_count": 8,
   "metadata": {},
   "outputs": [
    {
     "data": {
      "text/plain": [
       "2299665"
      ]
     },
     "execution_count": 8,
     "metadata": {},
     "output_type": "execute_result"
    }
   ],
   "source": [
    "dfsub.predicted_savings.sum()"
   ]
  },
  {
   "cell_type": "code",
   "execution_count": 67,
   "metadata": {},
   "outputs": [
    {
     "data": {
      "text/plain": [
       "20031"
      ]
     },
     "execution_count": 67,
     "metadata": {},
     "output_type": "execute_result"
    }
   ],
   "source": [
    "len(dfsub)"
   ]
  },
  {
   "cell_type": "code",
   "execution_count": 224,
   "metadata": {
    "scrolled": true
   },
   "outputs": [
    {
     "data": {
      "text/plain": [
       "Unnamed: 0           10015.000\n",
       "id                   10016.000\n",
       "Spend                 1053.858\n",
       "Segments                 3.158\n",
       "Discount                 0.000\n",
       "Savings                  0.000\n",
       "predicted_savings      114.805\n",
       "net_savings            114.805\n",
       "Unnamed: 18                NaN\n",
       "Unnamed: 19                NaN\n",
       "Unnamed: 20                NaN\n",
       "Unnamed: 21                NaN\n",
       "dtype: float64"
      ]
     },
     "execution_count": 224,
     "metadata": {},
     "output_type": "execute_result"
    }
   ],
   "source": [
    "dfsub.mean()"
   ]
  },
  {
   "cell_type": "code",
   "execution_count": 232,
   "metadata": {
    "scrolled": false
   },
   "outputs": [
    {
     "data": {
      "image/png": "[encoded data removed]",
      "text/plain": [
       "<Figure size 432x288 with 1 Axes>"
      ]
     },
     "metadata": {
      "needs_background": "light"
     },
     "output_type": "display_data"
    }
   ],
   "source": [
    "sns.boxplot(data = dfsub, x = dfsub.predicted_savings, color = 'seagreen')\n",
    "plt.xlim(-100,500)\n",
    "plt.title('Distribution of predicted_savings')\n",
    "plt.show(b)"
   ]
  },
  {
   "cell_type": "code",
   "execution_count": 238,
   "metadata": {},
   "outputs": [
    {
     "data": {
      "image/png": "[encoded data removed]",
      "text/plain": [
       "<Figure size 432x288 with 1 Axes>"
      ]
     },
     "metadata": {
      "needs_background": "light"
     },
     "output_type": "display_data"
    }
   ],
   "source": [
    "dfgrouby_Market = df.groupby(by = 'Market').mean()\n",
    "sns.boxplot(data = dfgrouby_Market, x = dfgrouby_Market.index, y = dfgrouby_Market.predicted_savings )"
   ]
  },
  {
   "cell_type": "code",
   "execution_count": 69,
   "metadata": {
    "scrolled": true
   },
   "outputs": [
    {
     "name": "stdout",
     "output_type": "stream",
     "text": [
      "2299665\n",
      "20% negotiaion conversion:  459933.0\n"
     ]
    }
   ],
   "source": [
    "dfsub.predicted_savings.describe()\n",
    "print(dfsub.predicted_savings.sum())\n",
    "print('20% negotiaion conversion: ', 0.2 * (dfsub.predicted_savings.sum()) )"
   ]
  },
  {
   "cell_type": "code",
   "execution_count": 17,
   "metadata": {
    "scrolled": true
   },
   "outputs": [
    {
     "data": {
      "image/png": "[encoded data removed]",
      "text/plain": [
       "<Figure size 432x288 with 1 Axes>"
      ]
     },
     "metadata": {
      "needs_background": "light"
     },
     "output_type": "display_data"
    }
   ],
   "source": [
    "plt.hist(df.predicted_savings, bins = 100)\n",
    "plt.title('Distribution of Predicted Savings for sub-optimal purchases')\n",
    "plt.show()"
   ]
  },
  {
   "cell_type": "code",
   "execution_count": 18,
   "metadata": {
    "scrolled": true
   },
   "outputs": [
    {
     "data": {
      "text/plain": [
       "count    34851.000\n",
       "mean        65.986\n",
       "std        211.987\n",
       "min          0.000\n",
       "25%          0.000\n",
       "50%          8.000\n",
       "75%         32.000\n",
       "max       3638.000\n",
       "Name: predicted_savings, dtype: float64"
      ]
     },
     "execution_count": 18,
     "metadata": {},
     "output_type": "execute_result"
    }
   ],
   "source": [
    "df.predicted_savings.describe()"
   ]
  },
  {
   "cell_type": "code",
   "execution_count": 21,
   "metadata": {
    "scrolled": false
   },
   "outputs": [
    {
     "data": {
      "text/html": [
       "<div>\n",
       "<style scoped>\n",
       "    .dataframe tbody tr th:only-of-type {\n",
       "        vertical-align: middle;\n",
       "    }\n",
       "\n",
       "    .dataframe tbody tr th {\n",
       "        vertical-align: top;\n",
       "    }\n",
       "\n",
       "    .dataframe thead th {\n",
       "        text-align: right;\n",
       "    }\n",
       "</style>\n",
       "<table border=\"1\" class=\"dataframe\">\n",
       "  <thead>\n",
       "    <tr style=\"text-align: right;\">\n",
       "      <th></th>\n",
       "      <th>Segments</th>\n",
       "      <th>Spend</th>\n",
       "      <th>Savings</th>\n",
       "      <th>predicted_savings</th>\n",
       "    </tr>\n",
       "    <tr>\n",
       "      <th>Market_Competition</th>\n",
       "      <th></th>\n",
       "      <th></th>\n",
       "      <th></th>\n",
       "      <th></th>\n",
       "    </tr>\n",
       "  </thead>\n",
       "  <tbody>\n",
       "    <tr>\n",
       "      <th>Monopoly</th>\n",
       "      <td>20503</td>\n",
       "      <td>6320865</td>\n",
       "      <td>301025</td>\n",
       "      <td>337255</td>\n",
       "    </tr>\n",
       "    <tr>\n",
       "      <th>Highly Competitive</th>\n",
       "      <td>16062</td>\n",
       "      <td>7684952</td>\n",
       "      <td>498355</td>\n",
       "      <td>480059</td>\n",
       "    </tr>\n",
       "    <tr>\n",
       "      <th>Uncompetitive</th>\n",
       "      <td>27870</td>\n",
       "      <td>9716077</td>\n",
       "      <td>546032</td>\n",
       "      <td>516215</td>\n",
       "    </tr>\n",
       "    <tr>\n",
       "      <th>Competitive</th>\n",
       "      <td>52609</td>\n",
       "      <td>21594545</td>\n",
       "      <td>1700717</td>\n",
       "      <td>966136</td>\n",
       "    </tr>\n",
       "  </tbody>\n",
       "</table>\n",
       "</div>"
      ],
      "text/plain": [
       "                    Segments     Spend  Savings  predicted_savings\n",
       "Market_Competition                                                \n",
       "Monopoly               20503   6320865   301025             337255\n",
       "Highly Competitive     16062   7684952   498355             480059\n",
       "Uncompetitive          27870   9716077   546032             516215\n",
       "Competitive            52609  21594545  1700717             966136"
      ]
     },
     "execution_count": 21,
     "metadata": {},
     "output_type": "execute_result"
    }
   ],
   "source": [
    "df.groupby([\"Market_Competition\"]).sum().sort_values(by = ['predicted_savings'])[['Segments','Spend','Savings','predicted_savings']]"
   ]
  },
  {
   "cell_type": "code",
   "execution_count": 22,
   "metadata": {},
   "outputs": [
    {
     "data": {
      "text/html": [
       "<div>\n",
       "<style scoped>\n",
       "    .dataframe tbody tr th:only-of-type {\n",
       "        vertical-align: middle;\n",
       "    }\n",
       "\n",
       "    .dataframe tbody tr th {\n",
       "        vertical-align: top;\n",
       "    }\n",
       "\n",
       "    .dataframe thead th {\n",
       "        text-align: right;\n",
       "    }\n",
       "</style>\n",
       "<table border=\"1\" class=\"dataframe\">\n",
       "  <thead>\n",
       "    <tr style=\"text-align: right;\">\n",
       "      <th></th>\n",
       "      <th>Segments</th>\n",
       "      <th>Spend</th>\n",
       "      <th>Savings</th>\n",
       "      <th>predicted_savings</th>\n",
       "    </tr>\n",
       "    <tr>\n",
       "      <th>Market_Competition</th>\n",
       "      <th></th>\n",
       "      <th></th>\n",
       "      <th></th>\n",
       "      <th></th>\n",
       "    </tr>\n",
       "  </thead>\n",
       "  <tbody>\n",
       "    <tr>\n",
       "      <th>Monopoly</th>\n",
       "      <td>3.030</td>\n",
       "      <td>934.210</td>\n",
       "      <td>44.491</td>\n",
       "      <td>49.846</td>\n",
       "    </tr>\n",
       "    <tr>\n",
       "      <th>Uncompetitive</th>\n",
       "      <td>3.272</td>\n",
       "      <td>1140.652</td>\n",
       "      <td>64.103</td>\n",
       "      <td>60.603</td>\n",
       "    </tr>\n",
       "    <tr>\n",
       "      <th>Competitive</th>\n",
       "      <td>3.542</td>\n",
       "      <td>1453.884</td>\n",
       "      <td>114.503</td>\n",
       "      <td>65.047</td>\n",
       "    </tr>\n",
       "    <tr>\n",
       "      <th>Highly Competitive</th>\n",
       "      <td>3.407</td>\n",
       "      <td>1630.240</td>\n",
       "      <td>105.718</td>\n",
       "      <td>101.837</td>\n",
       "    </tr>\n",
       "  </tbody>\n",
       "</table>\n",
       "</div>"
      ],
      "text/plain": [
       "                    Segments     Spend  Savings  predicted_savings\n",
       "Market_Competition                                                \n",
       "Monopoly               3.030   934.210   44.491             49.846\n",
       "Uncompetitive          3.272  1140.652   64.103             60.603\n",
       "Competitive            3.542  1453.884  114.503             65.047\n",
       "Highly Competitive     3.407  1630.240  105.718            101.837"
      ]
     },
     "execution_count": 22,
     "metadata": {},
     "output_type": "execute_result"
    }
   ],
   "source": [
    "df.groupby([\"Market_Competition\"]).mean().sort_values(by = ['predicted_savings'])[['Segments','Spend','Savings','predicted_savings']]"
   ]
  },
  {
   "cell_type": "code",
   "execution_count": 24,
   "metadata": {},
   "outputs": [],
   "source": [
    "df_groupby_market = df.groupby([\"Market\"]).sum().sort_values(by = ['predicted_savings'])[['Segments','Spend','Savings','predicted_savings']]"
   ]
  },
  {
   "cell_type": "code",
   "execution_count": 26,
   "metadata": {
    "scrolled": true
   },
   "outputs": [
    {
     "data": {
      "text/html": [
       "<div>\n",
       "<style scoped>\n",
       "    .dataframe tbody tr th:only-of-type {\n",
       "        vertical-align: middle;\n",
       "    }\n",
       "\n",
       "    .dataframe tbody tr th {\n",
       "        vertical-align: top;\n",
       "    }\n",
       "\n",
       "    .dataframe thead th {\n",
       "        text-align: right;\n",
       "    }\n",
       "</style>\n",
       "<table border=\"1\" class=\"dataframe\">\n",
       "  <thead>\n",
       "    <tr style=\"text-align: right;\">\n",
       "      <th></th>\n",
       "      <th>Segments</th>\n",
       "      <th>Spend</th>\n",
       "      <th>Savings</th>\n",
       "      <th>predicted_savings</th>\n",
       "    </tr>\n",
       "    <tr>\n",
       "      <th>Market</th>\n",
       "      <th></th>\n",
       "      <th></th>\n",
       "      <th></th>\n",
       "      <th></th>\n",
       "    </tr>\n",
       "  </thead>\n",
       "  <tbody>\n",
       "    <tr>\n",
       "      <th>EWR-RDD</th>\n",
       "      <td>1</td>\n",
       "      <td>628</td>\n",
       "      <td>63</td>\n",
       "      <td>0</td>\n",
       "    </tr>\n",
       "    <tr>\n",
       "      <th>BUR-ROA</th>\n",
       "      <td>1</td>\n",
       "      <td>2099</td>\n",
       "      <td>315</td>\n",
       "      <td>0</td>\n",
       "    </tr>\n",
       "    <tr>\n",
       "      <th>BUR-SAN</th>\n",
       "      <td>1</td>\n",
       "      <td>163</td>\n",
       "      <td>8</td>\n",
       "      <td>0</td>\n",
       "    </tr>\n",
       "    <tr>\n",
       "      <th>GEG-SJC</th>\n",
       "      <td>3</td>\n",
       "      <td>624</td>\n",
       "      <td>30</td>\n",
       "      <td>0</td>\n",
       "    </tr>\n",
       "    <tr>\n",
       "      <th>BUR-SFO</th>\n",
       "      <td>14</td>\n",
       "      <td>1576</td>\n",
       "      <td>72</td>\n",
       "      <td>0</td>\n",
       "    </tr>\n",
       "  </tbody>\n",
       "</table>\n",
       "</div>"
      ],
      "text/plain": [
       "         Segments  Spend  Savings  predicted_savings\n",
       "Market                                              \n",
       "EWR-RDD         1    628       63                  0\n",
       "BUR-ROA         1   2099      315                  0\n",
       "BUR-SAN         1    163        8                  0\n",
       "GEG-SJC         3    624       30                  0\n",
       "BUR-SFO        14   1576       72                  0"
      ]
     },
     "execution_count": 26,
     "metadata": {},
     "output_type": "execute_result"
    }
   ],
   "source": [
    "df_groupby_market.head()"
   ]
  },
  {
   "cell_type": "code",
   "execution_count": 42,
   "metadata": {
    "scrolled": true
   },
   "outputs": [
    {
     "data": {
      "image/png": "[encoded data removed]",
      "text/plain": [
       "<Figure size 432x288 with 1 Axes>"
      ]
     },
     "metadata": {
      "needs_background": "light"
     },
     "output_type": "display_data"
    }
   ],
   "source": [
    "sns.scatterplot(x = df_groupby_market.Savings, y = df_groupby_market.predicted_savings)\n",
    "plt.title(\"Markets - Curret Savings vs Predicted Savings\")\n",
    "plt.xlim(0,100000)\n",
    "plt.show()"
   ]
  },
  {
   "cell_type": "code",
   "execution_count": 46,
   "metadata": {
    "scrolled": true
   },
   "outputs": [
    {
     "data": {
      "image/png": "[encoded data removed]",
      "text/plain": [
       "<Figure size 432x288 with 1 Axes>"
      ]
     },
     "metadata": {
      "needs_background": "light"
     },
     "output_type": "display_data"
    }
   ],
   "source": [
    "sns.scatterplot(x = df_groupby_market.Spend, y = df_groupby_market.predicted_savings, color = 'seagreen')\n",
    "plt.title(\"Markets - Spend vs Predicted Savings\")\n",
    "plt.show()"
   ]
  },
  {
   "cell_type": "code",
   "execution_count": 45,
   "metadata": {},
   "outputs": [
    {
     "data": {
      "image/png": "[encoded data removed]",
      "text/plain": [
       "<Figure size 432x288 with 1 Axes>"
      ]
     },
     "metadata": {
      "needs_background": "light"
     },
     "output_type": "display_data"
    }
   ],
   "source": [
    "sns.scatterplot(x = df_groupby_market.Spend, y = df_groupby_market.Savings)\n",
    "plt.title(\"Markets - Spend vs Current Savings\")\n",
    "plt.xlim(0,1000000)\n",
    "plt.show()"
   ]
  },
  {
   "cell_type": "markdown",
   "metadata": {},
   "source": [
    "# Random Selection Model Simulation and Analysis"
   ]
  },
  {
   "cell_type": "code",
   "execution_count": 166,
   "metadata": {
    "scrolled": true
   },
   "outputs": [
    {
     "name": "stdout",
     "output_type": "stream",
     "text": [
      "Model training completed completed for:  SVR()\n",
      "Model training completed completed for:  SVR()\n",
      "Model training completed completed for:  SVR()\n",
      "Model training completed completed for:  SVR()\n",
      "Model training completed completed for:  SVR()\n",
      "Model training completed completed for:  SVR()\n",
      "Model training completed completed for:  SVR()\n",
      "Model training completed completed for:  SVR()\n",
      "Model training completed completed for:  SVR()\n",
      "Model training completed completed for:  SVR()\n",
      "Model training completed completed for:  SVR()\n",
      "Model training completed completed for:  SVR()\n",
      "Model training completed completed for:  SVR()\n",
      "Model training completed completed for:  SVR()\n",
      "Model training completed completed for:  SVR()\n",
      "Model training completed completed for:  SVR()\n",
      "Model training completed completed for:  SVR()\n",
      "Model training completed completed for:  SVR()\n",
      "Model training completed completed for:  SVR()\n",
      "Model training completed completed for:  SVR()\n",
      "Model training completed completed for:  SVR()\n",
      "Model training completed completed for:  SVR()\n",
      "Model training completed completed for:  SVR()\n",
      "Model training completed completed for:  SVR()\n",
      "Model training completed completed for:  SVR()\n",
      "Model training completed completed for:  SVR()\n",
      "Model training completed completed for:  SVR()\n",
      "Model training completed completed for:  SVR()\n",
      "Model training completed completed for:  SVR()\n",
      "Model training completed completed for:  SVR()\n",
      "Model training completed completed for:  SVR()\n",
      "Model training completed completed for:  SVR()\n",
      "Model training completed completed for:  SVR()\n",
      "Model training completed completed for:  SVR()\n",
      "Model training completed completed for:  SVR()\n",
      "Model training completed completed for:  SVR()\n",
      "Model training completed completed for:  SVR()\n",
      "Model training completed completed for:  SVR()\n",
      "Model training completed completed for:  SVR()\n",
      "Model training completed completed for:  SVR()\n",
      "Model training completed completed for:  SVR()\n",
      "Model training completed completed for:  SVR()\n",
      "Model training completed completed for:  SVR()\n",
      "Model training completed completed for:  SVR()\n",
      "Model training completed completed for:  SVR()\n",
      "Model training completed completed for:  SVR()\n",
      "Model training completed completed for:  SVR()\n",
      "Model training completed completed for:  SVR()\n",
      "Model training completed completed for:  SVR()\n",
      "Model training completed completed for:  SVR()\n",
      "Model training completed completed for:  SVR()\n",
      "Model training completed completed for:  SVR()\n",
      "Model training completed completed for:  SVR()\n",
      "Model training completed completed for:  SVR()\n",
      "Model training completed completed for:  SVR()\n",
      "Model training completed completed for:  SVR()\n",
      "Model training completed completed for:  SVR()\n",
      "Model training completed completed for:  SVR()\n",
      "Model training completed completed for:  SVR()\n",
      "Model training completed completed for:  SVR()\n",
      "Model training completed completed for:  SVR()\n",
      "Model training completed completed for:  SVR()\n",
      "Model training completed completed for:  SVR()\n",
      "Model training completed completed for:  SVR()\n",
      "Model training completed completed for:  SVR()\n",
      "Model training completed completed for:  SVR()\n",
      "Model training completed completed for:  SVR()\n",
      "Model training completed completed for:  SVR()\n",
      "Model training completed completed for:  SVR()\n",
      "Model training completed completed for:  SVR()\n",
      "Model training completed completed for:  SVR()\n",
      "Model training completed completed for:  SVR()\n",
      "Model training completed completed for:  SVR()\n",
      "Model training completed completed for:  SVR()\n",
      "Model training completed completed for:  SVR()\n",
      "Model training completed completed for:  SVR()\n",
      "Model training completed completed for:  SVR()\n",
      "Model training completed completed for:  SVR()\n",
      "Model training completed completed for:  SVR()\n",
      "Model training completed completed for:  SVR()\n",
      "Model training completed completed for:  SVR()\n",
      "Model training completed completed for:  SVR()\n",
      "Model training completed completed for:  SVR()\n",
      "Model training completed completed for:  SVR()\n",
      "Model training completed completed for:  SVR()\n",
      "Model training completed completed for:  SVR()\n",
      "Model training completed completed for:  SVR()\n",
      "Model training completed completed for:  SVR()\n",
      "Model training completed completed for:  SVR()\n",
      "Model training completed completed for:  SVR()\n",
      "Model training completed completed for:  SVR()\n",
      "Model training completed completed for:  SVR()\n",
      "Model training completed completed for:  SVR()\n",
      "Model training completed completed for:  SVR()\n",
      "Model training completed completed for:  SVR()\n",
      "Model training completed completed for:  SVR()\n",
      "Model training completed completed for:  SVR()\n",
      "Model training completed completed for:  SVR()\n",
      "Model training completed completed for:  SVR()\n",
      "Model training completed completed for:  SVR()\n",
      "CPU times: user 7min 26s, sys: 16.6 s, total: 7min 43s\n",
      "Wall time: 7min 51s\n"
     ]
    },
    {
     "data": {
      "text/html": [
       "<div>\n",
       "<style scoped>\n",
       "    .dataframe tbody tr th:only-of-type {\n",
       "        vertical-align: middle;\n",
       "    }\n",
       "\n",
       "    .dataframe tbody tr th {\n",
       "        vertical-align: top;\n",
       "    }\n",
       "\n",
       "    .dataframe thead th {\n",
       "        text-align: right;\n",
       "    }\n",
       "</style>\n",
       "<table border=\"1\" class=\"dataframe\">\n",
       "  <thead>\n",
       "    <tr style=\"text-align: right;\">\n",
       "      <th></th>\n",
       "      <th>model</th>\n",
       "      <th>score_accuracy</th>\n",
       "      <th>score_explained_variance</th>\n",
       "      <th>score_mean_absolute_error</th>\n",
       "    </tr>\n",
       "  </thead>\n",
       "  <tbody>\n",
       "    <tr>\n",
       "      <th>0</th>\n",
       "      <td>SVR()</td>\n",
       "      <td>0.344</td>\n",
       "      <td>0.364</td>\n",
       "      <td>90.848</td>\n",
       "    </tr>\n",
       "    <tr>\n",
       "      <th>1</th>\n",
       "      <td>SVR()</td>\n",
       "      <td>0.344</td>\n",
       "      <td>0.364</td>\n",
       "      <td>90.848</td>\n",
       "    </tr>\n",
       "    <tr>\n",
       "      <th>2</th>\n",
       "      <td>SVR()</td>\n",
       "      <td>0.344</td>\n",
       "      <td>0.364</td>\n",
       "      <td>90.848</td>\n",
       "    </tr>\n",
       "    <tr>\n",
       "      <th>3</th>\n",
       "      <td>SVR()</td>\n",
       "      <td>0.344</td>\n",
       "      <td>0.364</td>\n",
       "      <td>90.848</td>\n",
       "    </tr>\n",
       "    <tr>\n",
       "      <th>4</th>\n",
       "      <td>SVR()</td>\n",
       "      <td>0.344</td>\n",
       "      <td>0.364</td>\n",
       "      <td>90.848</td>\n",
       "    </tr>\n",
       "  </tbody>\n",
       "</table>\n",
       "</div>"
      ],
      "text/plain": [
       "   model  score_accuracy  score_explained_variance  score_mean_absolute_error\n",
       "0  SVR()           0.344                     0.364                     90.848\n",
       "1  SVR()           0.344                     0.364                     90.848\n",
       "2  SVR()           0.344                     0.364                     90.848\n",
       "3  SVR()           0.344                     0.364                     90.848\n",
       "4  SVR()           0.344                     0.364                     90.848"
      ]
     },
     "execution_count": 166,
     "metadata": {},
     "output_type": "execute_result"
    }
   ],
   "source": [
    "%%time\n",
    "\n",
    "dffull = pd.read_excel('master_file_markets_data_v2.0.xlsx')\n",
    "dfcopy = dffull.copy()\n",
    "\n",
    "#dropping columns that are not required, dropping markets with zero savings\n",
    "#df = dffull.drop('id', axis = 1)\n",
    "df = dffull.loc[dffull.Savings != 0] #training and testing set\n",
    "\n",
    "# Definitions of training and testing data\n",
    "# Validation data will only be suboptimal markets where, Savings = 0\n",
    "\n",
    "df = df[['Segments','Spend','Market_type','Market_Competition','Savings']]\n",
    "\n",
    "\n",
    "# Feature Encoding for machine learnign training\n",
    "\n",
    "# Label Encoding\n",
    "le = LabelEncoder()\n",
    "df.Market_type = le.fit_transform(df.Market_type)\n",
    "df.Market_Competition = le.fit_transform(df.Market_Competition)\n",
    "\n",
    "'''\n",
    "# One Hot Encoding\n",
    "\n",
    "OneHotEncoder(\n",
    "    categories='auto',  # Categories per feature\n",
    "    drop=None, # Whether to drop one of the features\n",
    "    sparse=True, # Will return sparse matrix if set True\n",
    "    handle_unknown='error' # Whether to raise an error \n",
    ")        \n",
    "\n",
    "ohe = OneHotEncoder() \n",
    "\n",
    "\n",
    "#OHE Encoding for column: POS\n",
    "transformed = ohe.fit_transform(df[['POS']])\n",
    "transformed = pd.DataFrame(data = transformed.toarray(), columns = ohe.get_feature_names())\n",
    "df = df.drop('POS', axis = 1)\n",
    "df = pd.concat([df, transformed], axis=1, join=\"inner\")\n",
    "\n",
    "\n",
    "#OHE Encoding for column: Region\n",
    "transformed = ohe.fit_transform(df[['Region']])\n",
    "transformed = pd.DataFrame(data = transformed.toarray(), columns = ohe.get_feature_names())\n",
    "df = df.drop('Region', axis = 1)\n",
    "df = pd.concat([df, transformed], axis=1, join=\"inner\")\n",
    "\n",
    "'''\n",
    "\n",
    "# Extreme value removel\n",
    "df = df.loc[df.Savings <= 5000]\n",
    "\n",
    "# Standardisation and Normalisation for machine learnign training\n",
    "\n",
    "\n",
    "# target \n",
    "#y = pd.DataFrame(data = dftest['y'])\n",
    "y = df['Savings']\n",
    "\n",
    "#features\n",
    "x = df.drop('Savings', axis = 1)\n",
    "\n",
    "# train and test sets\n",
    "xtrain, xtest, ytrain, ytest = train_test_split(x, y, test_size = 0.3, shuffle = True)\n",
    "\n",
    "\n",
    "# MODELLING\n",
    "\n",
    "# Model Definitions List\n",
    "\n",
    "#model_list = [RandomForestRegressor(n_estimators = 300, bootstrap = False, max_depth = 4, max_features = 4)]\n",
    "model_list = [svm.SVR()]\n",
    "\n",
    "#result storing lists; later to be used to generate dfresults dataframe\n",
    "model_def = []\n",
    "score_accuracy_list = []\n",
    "score_explainedvariance_list = []\n",
    "score_meanabsoluteerror_list = []\n",
    "\n",
    "    \n",
    "# model fitting and testing loop\n",
    "\n",
    "for i in range(0,100) : \n",
    "    \n",
    "    # storing model functions; later to be used in dfresults dataframe\n",
    "    for model in model_list:\n",
    "        text = str(model)\n",
    "        #model_type = text.split(\".\")[-1].split(\"'\")[0]\n",
    "        model_type = text\n",
    "        model_def.append(model_type)\n",
    "    \n",
    "    model = svm.SVR()\n",
    "\n",
    "    #fitting\n",
    "    fitted_model = model.fit(xtrain,ytrain)\n",
    "    \n",
    "    print('Model training completed completed for: ', model)\n",
    "    \n",
    "    ypred = fitted_model.predict(xtest)\n",
    "    \n",
    "    # scoring\n",
    "    \n",
    "    \n",
    "    score_accuracy_list.append(fitted_model.score(xtest,ytest)) #calculate and append Accuracy\n",
    "    score_explainedvariance_list.append(explained_variance_score(ytest,ypred)) #calculate and append R2 score\n",
    "    score_meanabsoluteerror_list.append(mean_absolute_error(ytest,ypred)) #calculate and append R2 score\n",
    "\n",
    "\n",
    "\n",
    "# Result storing - temporary\n",
    "    \n",
    "# result dataframe genertor, dfresults will be over written for new training runs\n",
    "dfresults = pd.DataFrame(data = {'model':model_def, 'score_accuracy':score_accuracy_list, \n",
    "                                 'score_explained_variance':score_explainedvariance_list, \n",
    "                                 'score_mean_absolute_error':score_meanabsoluteerror_list})\n",
    "\n",
    "\n",
    "# Result storing - permanent\n",
    " \n",
    "#create a master file to store all results after training runs\n",
    "#this below code needs to be seperated from training run cell\n",
    "#re-executing the creation of dfresults_master will overwrite the dataframe\n",
    "\n",
    "#load external csv file for result storage\n",
    "dfresults_master = pd.read_csv('dfresults_master.csv')\n",
    "\n",
    "#pre_processing dfresults_master to remove unnamed columns\n",
    "Unname_columns_list = []\n",
    "for column in dfresults_master.columns.to_list():\n",
    "    if 'Unnamed' in column:\n",
    "        Unname_columns_list.append(column)\n",
    "dfresults_master = dfresults_master.drop(Unname_columns_list, axis = 1)\n",
    "\n",
    "#append dataframe with results\n",
    "dfresults_master = dfresults_master.append(dfresults) # stroing model testing scores into master dataframe\n",
    "dfresults_master = dfresults_master[1:] #removing dummy observation \n",
    "\n",
    "#Removing any unknown columns that may have been appended\n",
    "Unname_columns_list = []\n",
    "for column in dfresults_master.columns.to_list():\n",
    "    if 'Unnamed' in column:\n",
    "        Unname_columns_list.append(column)\n",
    "\n",
    "dfresults_master = dfresults_master.drop(Unname_columns_list, axis = 1)\n",
    "\n",
    "#replace orgininally loaded file with new dataframe export\n",
    "dfresults_master.to_csv('dfresults_master.csv')\n",
    "\n",
    "dfresults.head()\n",
    "\n",
    "#results need to be stored in dfresults_master for premanent record of all models trained"
   ]
  },
  {
   "cell_type": "markdown",
   "metadata": {},
   "source": [
    "**Analysis of Random Forest Performance**"
   ]
  },
  {
   "cell_type": "code",
   "execution_count": 140,
   "metadata": {},
   "outputs": [
    {
     "name": "stderr",
     "output_type": "stream",
     "text": [
      "<ipython-input-140-f7af2c131be4>:13: SettingWithCopyWarning: \n",
      "A value is trying to be set on a copy of a slice from a DataFrame\n",
      "\n",
      "See the caveats in the documentation: https://pandas.pydata.org/pandas-docs/stable/user_guide/indexing.html#returning-a-view-versus-a-copy\n",
      "  df.model_type[i] = model_type\n",
      "/Users/siddhantwade/opt/anaconda3/lib/python3.8/site-packages/pandas/core/indexing.py:670: SettingWithCopyWarning: \n",
      "A value is trying to be set on a copy of a slice from a DataFrame\n",
      "\n",
      "See the caveats in the documentation: https://pandas.pydata.org/pandas-docs/stable/user_guide/indexing.html#returning-a-view-versus-a-copy\n",
      "  iloc._setitem_with_indexer(indexer, value)\n"
     ]
    },
    {
     "data": {
      "text/html": [
       "<div>\n",
       "<style scoped>\n",
       "    .dataframe tbody tr th:only-of-type {\n",
       "        vertical-align: middle;\n",
       "    }\n",
       "\n",
       "    .dataframe tbody tr th {\n",
       "        vertical-align: top;\n",
       "    }\n",
       "\n",
       "    .dataframe thead th {\n",
       "        text-align: right;\n",
       "    }\n",
       "</style>\n",
       "<table border=\"1\" class=\"dataframe\">\n",
       "  <thead>\n",
       "    <tr style=\"text-align: right;\">\n",
       "      <th></th>\n",
       "      <th>model</th>\n",
       "      <th>score_accuracy</th>\n",
       "      <th>score_explained_variance</th>\n",
       "      <th>score_mean_absolute_error</th>\n",
       "      <th>model_type</th>\n",
       "    </tr>\n",
       "  </thead>\n",
       "  <tbody>\n",
       "    <tr>\n",
       "      <th>30</th>\n",
       "      <td>RandomForestRegressor(bootstrap=False, max_depth=4, max_features=4,\\n                      n_estimators=300)</td>\n",
       "      <td>0.719</td>\n",
       "      <td>0.719</td>\n",
       "      <td>76.937</td>\n",
       "      <td>RandomForestRegressor</td>\n",
       "    </tr>\n",
       "    <tr>\n",
       "      <th>31</th>\n",
       "      <td>RandomForestRegressor(bootstrap=False, max_depth=4, max_features=4,\\n                      n_estimators=300)</td>\n",
       "      <td>0.694</td>\n",
       "      <td>0.694</td>\n",
       "      <td>76.838</td>\n",
       "      <td>RandomForestRegressor</td>\n",
       "    </tr>\n",
       "    <tr>\n",
       "      <th>32</th>\n",
       "      <td>RandomForestRegressor(bootstrap=False, max_depth=4, max_features=4,\\n                      n_estimators=300)</td>\n",
       "      <td>0.694</td>\n",
       "      <td>0.694</td>\n",
       "      <td>76.838</td>\n",
       "      <td>RandomForestRegressor</td>\n",
       "    </tr>\n",
       "    <tr>\n",
       "      <th>33</th>\n",
       "      <td>RandomForestRegressor(bootstrap=False, max_depth=4, max_features=4,\\n                      n_estimators=300)</td>\n",
       "      <td>0.694</td>\n",
       "      <td>0.694</td>\n",
       "      <td>76.838</td>\n",
       "      <td>RandomForestRegressor</td>\n",
       "    </tr>\n",
       "    <tr>\n",
       "      <th>34</th>\n",
       "      <td>RandomForestRegressor(bootstrap=False, max_depth=4, max_features=4,\\n                      n_estimators=300)</td>\n",
       "      <td>0.694</td>\n",
       "      <td>0.694</td>\n",
       "      <td>76.838</td>\n",
       "      <td>RandomForestRegressor</td>\n",
       "    </tr>\n",
       "  </tbody>\n",
       "</table>\n",
       "</div>"
      ],
      "text/plain": [
       "                                                                                                           model  \\\n",
       "30  RandomForestRegressor(bootstrap=False, max_depth=4, max_features=4,\\n                      n_estimators=300)   \n",
       "31  RandomForestRegressor(bootstrap=False, max_depth=4, max_features=4,\\n                      n_estimators=300)   \n",
       "32  RandomForestRegressor(bootstrap=False, max_depth=4, max_features=4,\\n                      n_estimators=300)   \n",
       "33  RandomForestRegressor(bootstrap=False, max_depth=4, max_features=4,\\n                      n_estimators=300)   \n",
       "34  RandomForestRegressor(bootstrap=False, max_depth=4, max_features=4,\\n                      n_estimators=300)   \n",
       "\n",
       "    score_accuracy  score_explained_variance  score_mean_absolute_error  \\\n",
       "30           0.719                     0.719                     76.937   \n",
       "31           0.694                     0.694                     76.838   \n",
       "32           0.694                     0.694                     76.838   \n",
       "33           0.694                     0.694                     76.838   \n",
       "34           0.694                     0.694                     76.838   \n",
       "\n",
       "               model_type  \n",
       "30  RandomForestRegressor  \n",
       "31  RandomForestRegressor  \n",
       "32  RandomForestRegressor  \n",
       "33  RandomForestRegressor  \n",
       "34  RandomForestRegressor  "
      ]
     },
     "execution_count": 140,
     "metadata": {},
     "output_type": "execute_result"
    }
   ],
   "source": [
    "# Loading the results master\n",
    "df = pd.read_csv('dfresults_master.csv')\n",
    "df = df.drop('Unnamed: 0', axis = 1) #removing unnmaed column\n",
    "\n",
    "# Adding another columns model_type into dfresults_master\n",
    "df['model_type'] = pd.DataFrame(data = [0])\n",
    "\n",
    "for i in df.index:\n",
    "\n",
    "    model_name = str(df.model[i])\n",
    "    model_name = model_name.split('(')\n",
    "    model_type = model_name[0]\n",
    "    df.model_type[i] = model_type\n",
    "\n",
    "# Saving the model name of final model for XN project RFR(n=300)\n",
    "final_model = str(df.model[1047])\n",
    "\n",
    "#saving final model results in dfsim\n",
    "dfsim = df.loc[df.model == final_model ]\n",
    "\n",
    "dfsim.head()"
   ]
  },
  {
   "cell_type": "code",
   "execution_count": 87,
   "metadata": {
    "scrolled": true
   },
   "outputs": [
    {
     "data": {
      "text/html": [
       "<div>\n",
       "<style scoped>\n",
       "    .dataframe tbody tr th:only-of-type {\n",
       "        vertical-align: middle;\n",
       "    }\n",
       "\n",
       "    .dataframe tbody tr th {\n",
       "        vertical-align: top;\n",
       "    }\n",
       "\n",
       "    .dataframe thead th {\n",
       "        text-align: right;\n",
       "    }\n",
       "</style>\n",
       "<table border=\"1\" class=\"dataframe\">\n",
       "  <thead>\n",
       "    <tr style=\"text-align: right;\">\n",
       "      <th></th>\n",
       "      <th>score_accuracy</th>\n",
       "      <th>score_explained_variance</th>\n",
       "      <th>score_mean_absolute_error</th>\n",
       "    </tr>\n",
       "  </thead>\n",
       "  <tbody>\n",
       "    <tr>\n",
       "      <th>count</th>\n",
       "      <td>1011.000</td>\n",
       "      <td>1011.000</td>\n",
       "      <td>1011.000</td>\n",
       "    </tr>\n",
       "    <tr>\n",
       "      <th>mean</th>\n",
       "      <td>0.703</td>\n",
       "      <td>0.703</td>\n",
       "      <td>76.941</td>\n",
       "    </tr>\n",
       "    <tr>\n",
       "      <th>std</th>\n",
       "      <td>0.001</td>\n",
       "      <td>0.001</td>\n",
       "      <td>0.010</td>\n",
       "    </tr>\n",
       "    <tr>\n",
       "      <th>min</th>\n",
       "      <td>0.694</td>\n",
       "      <td>0.694</td>\n",
       "      <td>76.838</td>\n",
       "    </tr>\n",
       "    <tr>\n",
       "      <th>25%</th>\n",
       "      <td>0.703</td>\n",
       "      <td>0.704</td>\n",
       "      <td>76.942</td>\n",
       "    </tr>\n",
       "    <tr>\n",
       "      <th>50%</th>\n",
       "      <td>0.703</td>\n",
       "      <td>0.704</td>\n",
       "      <td>76.942</td>\n",
       "    </tr>\n",
       "    <tr>\n",
       "      <th>75%</th>\n",
       "      <td>0.703</td>\n",
       "      <td>0.704</td>\n",
       "      <td>76.942</td>\n",
       "    </tr>\n",
       "    <tr>\n",
       "      <th>max</th>\n",
       "      <td>0.719</td>\n",
       "      <td>0.719</td>\n",
       "      <td>76.942</td>\n",
       "    </tr>\n",
       "  </tbody>\n",
       "</table>\n",
       "</div>"
      ],
      "text/plain": [
       "       score_accuracy  score_explained_variance  score_mean_absolute_error\n",
       "count        1011.000                  1011.000                   1011.000\n",
       "mean            0.703                     0.703                     76.941\n",
       "std             0.001                     0.001                      0.010\n",
       "min             0.694                     0.694                     76.838\n",
       "25%             0.703                     0.704                     76.942\n",
       "50%             0.703                     0.704                     76.942\n",
       "75%             0.703                     0.704                     76.942\n",
       "max             0.719                     0.719                     76.942"
      ]
     },
     "execution_count": 87,
     "metadata": {},
     "output_type": "execute_result"
    }
   ],
   "source": [
    "dfsim.describe()"
   ]
  },
  {
   "cell_type": "code",
   "execution_count": 92,
   "metadata": {
    "scrolled": false
   },
   "outputs": [
    {
     "data": {
      "image/png": "[encoded data removed]",
      "text/plain": [
       "<Figure size 432x288 with 1 Axes>"
      ]
     },
     "metadata": {
      "needs_background": "light"
     },
     "output_type": "display_data"
    }
   ],
   "source": [
    "plt.hist(dfsim.score_mean_absolute_error, bins = 20)\n",
    "plt.show()"
   ]
  },
  {
   "cell_type": "markdown",
   "metadata": {},
   "source": [
    "# A very narrow interval at 95% confidence. The model is incredibly robust."
   ]
  },
  {
   "cell_type": "code",
   "execution_count": 95,
   "metadata": {
    "scrolled": true
   },
   "outputs": [
    {
     "name": "stderr",
     "output_type": "stream",
     "text": [
      "<ipython-input-95-5ef8e7c973b1>:3: DeprecationWarning: Use of keyword argument `alpha` for method `interval` is deprecated. Use first positional argument or keyword argument `confidence` instead.\n",
      "  st.t.interval(alpha=0.95, df=len(dferror)-1, loc=np.mean(dferror), scale=st.sem(dferror))\n"
     ]
    },
    {
     "data": {
      "text/plain": [
       "(76.94005627925893, 76.9413194483653)"
      ]
     },
     "execution_count": 95,
     "metadata": {},
     "output_type": "execute_result"
    }
   ],
   "source": [
    "# 95% CI\n",
    "dferror = dfsim['score_mean_absolute_error']\n",
    "st.t.interval(alpha=0.95, df=len(dferror)-1, loc=np.mean(dferror), scale=st.sem(dferror)) \n"
   ]
  },
  {
   "cell_type": "markdown",
   "metadata": {},
   "source": [
    "**Analysis of Linear Regression performance**"
   ]
  },
  {
   "cell_type": "code",
   "execution_count": 170,
   "metadata": {
    "scrolled": false
   },
   "outputs": [
    {
     "name": "stderr",
     "output_type": "stream",
     "text": [
      "<ipython-input-170-46a6d5bd9135>:13: SettingWithCopyWarning: \n",
      "A value is trying to be set on a copy of a slice from a DataFrame\n",
      "\n",
      "See the caveats in the documentation: https://pandas.pydata.org/pandas-docs/stable/user_guide/indexing.html#returning-a-view-versus-a-copy\n",
      "  df.model_type[i] = model_type\n",
      "/Users/siddhantwade/opt/anaconda3/lib/python3.8/site-packages/pandas/core/indexing.py:670: SettingWithCopyWarning: \n",
      "A value is trying to be set on a copy of a slice from a DataFrame\n",
      "\n",
      "See the caveats in the documentation: https://pandas.pydata.org/pandas-docs/stable/user_guide/indexing.html#returning-a-view-versus-a-copy\n",
      "  iloc._setitem_with_indexer(indexer, value)\n"
     ]
    },
    {
     "data": {
      "text/html": [
       "<div>\n",
       "<style scoped>\n",
       "    .dataframe tbody tr th:only-of-type {\n",
       "        vertical-align: middle;\n",
       "    }\n",
       "\n",
       "    .dataframe tbody tr th {\n",
       "        vertical-align: top;\n",
       "    }\n",
       "\n",
       "    .dataframe thead th {\n",
       "        text-align: right;\n",
       "    }\n",
       "</style>\n",
       "<table border=\"1\" class=\"dataframe\">\n",
       "  <thead>\n",
       "    <tr style=\"text-align: right;\">\n",
       "      <th></th>\n",
       "      <th>model</th>\n",
       "      <th>score_accuracy</th>\n",
       "      <th>score_explained_variance</th>\n",
       "      <th>score_mean_absolute_error</th>\n",
       "      <th>model_type</th>\n",
       "    </tr>\n",
       "  </thead>\n",
       "  <tbody>\n",
       "    <tr>\n",
       "      <th>24</th>\n",
       "      <td>LinearRegression()</td>\n",
       "      <td>0.656</td>\n",
       "      <td>0.656</td>\n",
       "      <td>83.889</td>\n",
       "      <td>LinearRegression</td>\n",
       "    </tr>\n",
       "    <tr>\n",
       "      <th>1141</th>\n",
       "      <td>LinearRegression()</td>\n",
       "      <td>0.656</td>\n",
       "      <td>0.656</td>\n",
       "      <td>89.901</td>\n",
       "      <td>LinearRegression</td>\n",
       "    </tr>\n",
       "    <tr>\n",
       "      <th>1142</th>\n",
       "      <td>LinearRegression()</td>\n",
       "      <td>0.656</td>\n",
       "      <td>0.656</td>\n",
       "      <td>89.901</td>\n",
       "      <td>LinearRegression</td>\n",
       "    </tr>\n",
       "    <tr>\n",
       "      <th>1143</th>\n",
       "      <td>LinearRegression()</td>\n",
       "      <td>0.656</td>\n",
       "      <td>0.656</td>\n",
       "      <td>89.901</td>\n",
       "      <td>LinearRegression</td>\n",
       "    </tr>\n",
       "    <tr>\n",
       "      <th>1144</th>\n",
       "      <td>LinearRegression()</td>\n",
       "      <td>0.656</td>\n",
       "      <td>0.656</td>\n",
       "      <td>89.901</td>\n",
       "      <td>LinearRegression</td>\n",
       "    </tr>\n",
       "  </tbody>\n",
       "</table>\n",
       "</div>"
      ],
      "text/plain": [
       "                   model  score_accuracy  score_explained_variance  \\\n",
       "24    LinearRegression()           0.656                     0.656   \n",
       "1141  LinearRegression()           0.656                     0.656   \n",
       "1142  LinearRegression()           0.656                     0.656   \n",
       "1143  LinearRegression()           0.656                     0.656   \n",
       "1144  LinearRegression()           0.656                     0.656   \n",
       "\n",
       "      score_mean_absolute_error        model_type  \n",
       "24                       83.889  LinearRegression  \n",
       "1141                     89.901  LinearRegression  \n",
       "1142                     89.901  LinearRegression  \n",
       "1143                     89.901  LinearRegression  \n",
       "1144                     89.901  LinearRegression  "
      ]
     },
     "execution_count": 170,
     "metadata": {},
     "output_type": "execute_result"
    }
   ],
   "source": [
    "# Loading the results master\n",
    "df = pd.read_csv('dfresults_master.csv')\n",
    "df = df.drop('Unnamed: 0', axis = 1) #removing unnmaed column\n",
    "\n",
    "# Adding another columns model_type into dfresults_master\n",
    "df['model_type'] = pd.DataFrame(data = [0])\n",
    "\n",
    "for i in df.index:\n",
    "\n",
    "    model_name = str(df.model[i])\n",
    "    model_name = model_name.split('(')\n",
    "    model_type = model_name[0]\n",
    "    df.model_type[i] = model_type\n",
    "\n",
    "# Saving the model name of final model for XN project RFR(n=300)\n",
    "final_model = 'LinearRegression()'\n",
    "\n",
    "#saving final model results in dfsim\n",
    "dfsim = df.loc[df.model == final_model]\n",
    "\n",
    "dfsim.head()"
   ]
  },
  {
   "cell_type": "code",
   "execution_count": 104,
   "metadata": {},
   "outputs": [
    {
     "data": {
      "text/html": [
       "<div>\n",
       "<style scoped>\n",
       "    .dataframe tbody tr th:only-of-type {\n",
       "        vertical-align: middle;\n",
       "    }\n",
       "\n",
       "    .dataframe tbody tr th {\n",
       "        vertical-align: top;\n",
       "    }\n",
       "\n",
       "    .dataframe thead th {\n",
       "        text-align: right;\n",
       "    }\n",
       "</style>\n",
       "<table border=\"1\" class=\"dataframe\">\n",
       "  <thead>\n",
       "    <tr style=\"text-align: right;\">\n",
       "      <th></th>\n",
       "      <th>score_accuracy</th>\n",
       "      <th>score_explained_variance</th>\n",
       "      <th>score_mean_absolute_error</th>\n",
       "    </tr>\n",
       "  </thead>\n",
       "  <tbody>\n",
       "    <tr>\n",
       "      <th>count</th>\n",
       "      <td>1.010e+02</td>\n",
       "      <td>1.010e+02</td>\n",
       "      <td>101.000</td>\n",
       "    </tr>\n",
       "    <tr>\n",
       "      <th>mean</th>\n",
       "      <td>6.556e-01</td>\n",
       "      <td>6.559e-01</td>\n",
       "      <td>89.842</td>\n",
       "    </tr>\n",
       "    <tr>\n",
       "      <th>std</th>\n",
       "      <td>1.276e-05</td>\n",
       "      <td>2.973e-05</td>\n",
       "      <td>0.598</td>\n",
       "    </tr>\n",
       "    <tr>\n",
       "      <th>min</th>\n",
       "      <td>6.555e-01</td>\n",
       "      <td>6.556e-01</td>\n",
       "      <td>83.889</td>\n",
       "    </tr>\n",
       "    <tr>\n",
       "      <th>25%</th>\n",
       "      <td>6.556e-01</td>\n",
       "      <td>6.559e-01</td>\n",
       "      <td>89.901</td>\n",
       "    </tr>\n",
       "    <tr>\n",
       "      <th>50%</th>\n",
       "      <td>6.556e-01</td>\n",
       "      <td>6.559e-01</td>\n",
       "      <td>89.901</td>\n",
       "    </tr>\n",
       "    <tr>\n",
       "      <th>75%</th>\n",
       "      <td>6.556e-01</td>\n",
       "      <td>6.559e-01</td>\n",
       "      <td>89.901</td>\n",
       "    </tr>\n",
       "    <tr>\n",
       "      <th>max</th>\n",
       "      <td>6.556e-01</td>\n",
       "      <td>6.559e-01</td>\n",
       "      <td>89.901</td>\n",
       "    </tr>\n",
       "  </tbody>\n",
       "</table>\n",
       "</div>"
      ],
      "text/plain": [
       "       score_accuracy  score_explained_variance  score_mean_absolute_error\n",
       "count       1.010e+02                 1.010e+02                    101.000\n",
       "mean        6.556e-01                 6.559e-01                     89.842\n",
       "std         1.276e-05                 2.973e-05                      0.598\n",
       "min         6.555e-01                 6.556e-01                     83.889\n",
       "25%         6.556e-01                 6.559e-01                     89.901\n",
       "50%         6.556e-01                 6.559e-01                     89.901\n",
       "75%         6.556e-01                 6.559e-01                     89.901\n",
       "max         6.556e-01                 6.559e-01                     89.901"
      ]
     },
     "execution_count": 104,
     "metadata": {},
     "output_type": "execute_result"
    }
   ],
   "source": [
    "dfsim.describe()"
   ]
  },
  {
   "cell_type": "code",
   "execution_count": 105,
   "metadata": {},
   "outputs": [
    {
     "data": {
      "image/png": "[encoded data removed]",
      "text/plain": [
       "<Figure size 432x288 with 1 Axes>"
      ]
     },
     "metadata": {
      "needs_background": "light"
     },
     "output_type": "display_data"
    }
   ],
   "source": [
    "plt.hist(dfsim.score_mean_absolute_error, bins = 20)\n",
    "plt.show()"
   ]
  },
  {
   "cell_type": "code",
   "execution_count": 107,
   "metadata": {
    "scrolled": true
   },
   "outputs": [
    {
     "name": "stderr",
     "output_type": "stream",
     "text": [
      "<ipython-input-107-5ef8e7c973b1>:3: DeprecationWarning: Use of keyword argument `alpha` for method `interval` is deprecated. Use first positional argument or keyword argument `confidence` instead.\n",
      "  st.t.interval(alpha=0.95, df=len(dferror)-1, loc=np.mean(dferror), scale=st.sem(dferror))\n"
     ]
    },
    {
     "data": {
      "text/plain": [
       "(89.72360985275175, 89.95979821775943)"
      ]
     },
     "execution_count": 107,
     "metadata": {},
     "output_type": "execute_result"
    }
   ],
   "source": [
    "# 95% CI\n",
    "dferror = dfsim['score_mean_absolute_error']\n",
    "st.t.interval(alpha=0.95, df=len(dferror)-1, loc=np.mean(dferror), scale=st.sem(dferror)) "
   ]
  },
  {
   "cell_type": "markdown",
   "metadata": {},
   "source": [
    "**Comparative Simulation Performance**"
   ]
  },
  {
   "cell_type": "code",
   "execution_count": 160,
   "metadata": {
    "scrolled": true
   },
   "outputs": [
    {
     "data": {
      "text/html": [
       "<div>\n",
       "<style scoped>\n",
       "    .dataframe tbody tr th:only-of-type {\n",
       "        vertical-align: middle;\n",
       "    }\n",
       "\n",
       "    .dataframe tbody tr th {\n",
       "        vertical-align: top;\n",
       "    }\n",
       "\n",
       "    .dataframe thead th {\n",
       "        text-align: right;\n",
       "    }\n",
       "</style>\n",
       "<table border=\"1\" class=\"dataframe\">\n",
       "  <thead>\n",
       "    <tr style=\"text-align: right;\">\n",
       "      <th></th>\n",
       "      <th>score_accuracy</th>\n",
       "      <th>score_explained_variance</th>\n",
       "      <th>score_mean_absolute_error</th>\n",
       "    </tr>\n",
       "    <tr>\n",
       "      <th>model_type</th>\n",
       "      <th></th>\n",
       "      <th></th>\n",
       "      <th></th>\n",
       "    </tr>\n",
       "  </thead>\n",
       "  <tbody>\n",
       "    <tr>\n",
       "      <th>RandomForestRegressor</th>\n",
       "      <td>6.955e-01</td>\n",
       "      <td>6.956e-01</td>\n",
       "      <td>8.078e+01</td>\n",
       "    </tr>\n",
       "    <tr>\n",
       "      <th>LinearRegression</th>\n",
       "      <td>6.556e-01</td>\n",
       "      <td>6.559e-01</td>\n",
       "      <td>8.984e+01</td>\n",
       "    </tr>\n",
       "    <tr>\n",
       "      <th>DecisionTreeRegressor</th>\n",
       "      <td>5.263e-01</td>\n",
       "      <td>5.264e-01</td>\n",
       "      <td>9.442e+01</td>\n",
       "    </tr>\n",
       "    <tr>\n",
       "      <th>SGDRegressor</th>\n",
       "      <td>-4.551e+26</td>\n",
       "      <td>-3.714e+26</td>\n",
       "      <td>2.105e+15</td>\n",
       "    </tr>\n",
       "  </tbody>\n",
       "</table>\n",
       "</div>"
      ],
      "text/plain": [
       "                       score_accuracy  score_explained_variance  \\\n",
       "model_type                                                        \n",
       "RandomForestRegressor       6.955e-01                 6.956e-01   \n",
       "LinearRegression            6.556e-01                 6.559e-01   \n",
       "DecisionTreeRegressor       5.263e-01                 5.264e-01   \n",
       "SGDRegressor               -4.551e+26                -3.714e+26   \n",
       "\n",
       "                       score_mean_absolute_error  \n",
       "model_type                                        \n",
       "RandomForestRegressor                  8.078e+01  \n",
       "LinearRegression                       8.984e+01  \n",
       "DecisionTreeRegressor                  9.442e+01  \n",
       "SGDRegressor                           2.105e+15  "
      ]
     },
     "execution_count": 160,
     "metadata": {},
     "output_type": "execute_result"
    }
   ],
   "source": [
    "dfgroupby_models = df.groupby(['model_type']).mean().sort_values(by = ['score_mean_absolute_error'], ascending = True)\n",
    "dfgroupby_models"
   ]
  },
  {
   "cell_type": "code",
   "execution_count": 161,
   "metadata": {},
   "outputs": [
    {
     "data": {
      "text/html": [
       "<div>\n",
       "<style scoped>\n",
       "    .dataframe tbody tr th:only-of-type {\n",
       "        vertical-align: middle;\n",
       "    }\n",
       "\n",
       "    .dataframe tbody tr th {\n",
       "        vertical-align: top;\n",
       "    }\n",
       "\n",
       "    .dataframe thead th {\n",
       "        text-align: right;\n",
       "    }\n",
       "</style>\n",
       "<table border=\"1\" class=\"dataframe\">\n",
       "  <thead>\n",
       "    <tr style=\"text-align: right;\">\n",
       "      <th></th>\n",
       "      <th>score_accuracy</th>\n",
       "      <th>score_explained_variance</th>\n",
       "      <th>score_mean_absolute_error</th>\n",
       "    </tr>\n",
       "    <tr>\n",
       "      <th>model_type</th>\n",
       "      <th></th>\n",
       "      <th></th>\n",
       "      <th></th>\n",
       "    </tr>\n",
       "  </thead>\n",
       "  <tbody>\n",
       "    <tr>\n",
       "      <th>RandomForestRegressor</th>\n",
       "      <td>0.696</td>\n",
       "      <td>0.696</td>\n",
       "      <td>80.779</td>\n",
       "    </tr>\n",
       "    <tr>\n",
       "      <th>LinearRegression</th>\n",
       "      <td>0.656</td>\n",
       "      <td>0.656</td>\n",
       "      <td>89.842</td>\n",
       "    </tr>\n",
       "    <tr>\n",
       "      <th>DecisionTreeRegressor</th>\n",
       "      <td>0.526</td>\n",
       "      <td>0.526</td>\n",
       "      <td>94.418</td>\n",
       "    </tr>\n",
       "  </tbody>\n",
       "</table>\n",
       "</div>"
      ],
      "text/plain": [
       "                       score_accuracy  score_explained_variance  \\\n",
       "model_type                                                        \n",
       "RandomForestRegressor           0.696                     0.696   \n",
       "LinearRegression                0.656                     0.656   \n",
       "DecisionTreeRegressor           0.526                     0.526   \n",
       "\n",
       "                       score_mean_absolute_error  \n",
       "model_type                                        \n",
       "RandomForestRegressor                     80.779  \n",
       "LinearRegression                          89.842  \n",
       "DecisionTreeRegressor                     94.418  "
      ]
     },
     "execution_count": 161,
     "metadata": {},
     "output_type": "execute_result"
    }
   ],
   "source": [
    "dfgroupby_models = dfgroupby_models.drop('SGDRegressor')\n",
    "dfgroupby_models"
   ]
  },
  {
   "cell_type": "code",
   "execution_count": 162,
   "metadata": {
    "scrolled": false
   },
   "outputs": [
    {
     "data": {
      "text/plain": [
       "<AxesSubplot: xlabel='model_type', ylabel='score_mean_absolute_error'>"
      ]
     },
     "execution_count": 162,
     "metadata": {},
     "output_type": "execute_result"
    },
    {
     "data": {
      "image/png": "[encoded data removed]",
      "text/plain": [
       "<Figure size 432x288 with 1 Axes>"
      ]
     },
     "metadata": {
      "needs_background": "light"
     },
     "output_type": "display_data"
    }
   ],
   "source": [
    "sns.barplot(data = dfgroupby_models, x = dfgroupby_models.index, y = dfgroupby_models.score_mean_absolute_error)"
   ]
  },
  {
   "cell_type": "code",
   "execution_count": 153,
   "metadata": {},
   "outputs": [
    {
     "data": {
      "image/png": "[encoded data removed]",
      "text/plain": [
       "<Figure size 432x288 with 1 Axes>"
      ]
     },
     "metadata": {
      "needs_background": "light"
     },
     "output_type": "display_data"
    }
   ],
   "source": [
    "# importing mplot3d toolkits, numpy and matplotlib\n",
    "from mpl_toolkits import mplot3d\n",
    "import numpy as np\n",
    "import matplotlib.pyplot as plt\n",
    " \n",
    "fig = plt.figure()\n",
    " \n",
    "# syntax for 3-D projection\n",
    "ax = plt.axes(projection ='3d')\n",
    " \n",
    "# defining all 3 axes\n",
    "z = dfgroupby_models.score_explained_variance\n",
    "x = dfgroupby_models.score_mean_absolute_error\n",
    "y = dfgroupby_models.score_accuracy\t\n",
    " \n",
    "# plotting\n",
    "ax.scatter(x, y, z,)\n",
    "ax.set_title('3D Plot')\n",
    "plt.xlabel('MAE')\n",
    "plt.ylabel('ACC')\n",
    "ax.set_zlabel('R2')\n",
    "plt.show()"
   ]
  },
  {
   "cell_type": "code",
   "execution_count": 152,
   "metadata": {
    "scrolled": true
   },
   "outputs": [
    {
     "data": {
      "image/png": "[encoded data removed]",
      "text/plain": [
       "<Figure size 432x288 with 1 Axes>"
      ]
     },
     "metadata": {
      "needs_background": "light"
     },
     "output_type": "display_data"
    }
   ],
   "source": [
    "# importing mplot3d toolkits, numpy and matplotlib\n",
    "from mpl_toolkits import mplot3d\n",
    "import numpy as np\n",
    "import matplotlib.pyplot as plt\n",
    " \n",
    "fig = plt.figure()\n",
    " \n",
    "# syntax for 3-D projection\n",
    "ax = plt.axes(projection ='3d')\n",
    " \n",
    "# defining all 3 axes\n",
    "z = df.score_explained_variance\n",
    "x = df.score_mean_absolute_error\n",
    "y = df.score_accuracy\n",
    " \n",
    "# plotting\n",
    "ax.scatter(x, y, z,)\n",
    "ax.set_title('3D Plot')\n",
    "plt.xlabel('MAE')\n",
    "plt.ylabel('ACC')\n",
    "ax.set_zlabel('R2')\n",
    "plt.show()"
   ]
  },
  {
   "cell_type": "code",
   "execution_count": 174,
   "metadata": {},
   "outputs": [
    {
     "data": {
      "text/plain": [
       "(1642, 5)"
      ]
     },
     "execution_count": 174,
     "metadata": {},
     "output_type": "execute_result"
    }
   ],
   "source": [
    "df.shape"
   ]
  }
 ],
 "metadata": {
  "kernelspec": {
   "display_name": "Python 3 (ipykernel)",
   "language": "python",
   "name": "python3"
  },
  "language_info": {
   "codemirror_mode": {
    "name": "ipython",
    "version": 3
   },
   "file_extension": ".py",
   "mimetype": "text/x-python",
   "name": "python",
   "nbconvert_exporter": "python",
   "pygments_lexer": "ipython3",
   "version": "3.9.12"
  }
 },
 "nbformat": 4,
 "nbformat_minor": 4
}
