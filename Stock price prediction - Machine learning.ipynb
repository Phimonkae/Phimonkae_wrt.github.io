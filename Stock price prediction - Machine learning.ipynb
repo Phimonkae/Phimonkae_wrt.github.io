{
 "cells": [
  {
   "cell_type": "markdown",
   "id": "96e718cb",
   "metadata": {},
   "source": [
    "# Import Library"
   ]
  },
  {
   "cell_type": "code",
   "execution_count": 1,
   "id": "d1422441",
   "metadata": {},
   "outputs": [],
   "source": [
    "import pandas as pd\n",
    "import datetime\n",
    "import numpy as np\n",
    "import matplotlib.pyplot as plt \n",
    "import warnings\n",
    "warnings.filterwarnings('ignore')"
   ]
  },
  {
   "cell_type": "markdown",
   "id": "702426ea",
   "metadata": {},
   "source": [
    "# Import data"
   ]
  },
  {
   "cell_type": "code",
   "execution_count": 2,
   "id": "b948284b",
   "metadata": {},
   "outputs": [],
   "source": [
    "Amzn = pd.read_excel('HistoricalData_AMZN.xlsx')\n",
    "Appl = pd.read_excel('HistoricalData_APPL.xlsx')\n",
    "Goog = pd.read_excel('HistoricalData_GOOG.xlsx')\n",
    "Nasd = pd.read_excel('HistoricalData_NASDAQ_COMP.xlsx')\n",
    "techSec_df = pd.read_excel('HistoricalData_NDXT_(Technology_sector_NASDAQ_100).xlsx')\n",
    "\n",
    "Nasd.drop('Volume',axis = 1, inplace =True)"
   ]
  },
  {
   "cell_type": "markdown",
   "id": "e65027b5",
   "metadata": {},
   "source": [
    "# Covert Time format"
   ]
  },
  {
   "cell_type": "code",
   "execution_count": 3,
   "id": "7485d2bf",
   "metadata": {},
   "outputs": [],
   "source": [
    "def dateConvert(date_):\n",
    "    d = datetime.datetime.strptime(date_, '%m/%d/%Y')\n",
    "    return d.strftime('%Y-%m-%d')\n",
    "\n",
    "def dateDfConvert(df,col):\n",
    "    date = []\n",
    "    for i in df[col]:\n",
    "        if type(i) != type(df[col][0]):\n",
    "            date.append(dateConvert(i))\n",
    "        else:\n",
    "            new_i = i.strftime('%Y-%d-%m')\n",
    "            d = datetime.datetime.strptime(new_i, '%Y-%m-%d')\n",
    "            date.append(d)\n",
    "\n",
    "    return date"
   ]
  },
  {
   "cell_type": "code",
   "execution_count": null,
   "id": "a31c0f32",
   "metadata": {},
   "outputs": [],
   "source": [
    "for stock in [Amzn,Appl,Goog,Nasd,techSec_df]:\n",
    "    date = dateDfConvert(stock, 'Date')\n",
    "\n",
    "    stock.Date = date\n",
    "    stock.index =stock.Date\n",
    "    stock = stock.drop('Date',axis = 1,inplace = True)"
   ]
  },
  {
   "cell_type": "code",
   "execution_count": null,
   "id": "cfa8b6b5",
   "metadata": {},
   "outputs": [],
   "source": [
    "Amzn"
   ]
  },
  {
   "cell_type": "markdown",
   "id": "e49d941b",
   "metadata": {},
   "source": [
    "# Change str to Float remove '$'"
   ]
  },
  {
   "cell_type": "code",
   "execution_count": null,
   "id": "18708440",
   "metadata": {},
   "outputs": [],
   "source": [
    "for stock in [Amzn,Appl,Goog]:\n",
    "    for col_name in ['Close/Last','Open','High','Low']:\n",
    "        stock[col_name] = stock[col_name].apply(lambda x: x.replace('$','')).astype(float)"
   ]
  },
  {
   "cell_type": "code",
   "execution_count": null,
   "id": "1981b84b",
   "metadata": {},
   "outputs": [],
   "source": [
    "Amzn"
   ]
  },
  {
   "cell_type": "markdown",
   "id": "2b20cc54",
   "metadata": {},
   "source": [
    "# Merge dataframe"
   ]
  },
  {
   "cell_type": "code",
   "execution_count": null,
   "id": "4f33a964",
   "metadata": {},
   "outputs": [],
   "source": [
    "all_df_name = ['AMZN','APPL','GOOG','NASDAQ_COMP','TECH_SECTOR']\n",
    "all_df =[Amzn,Appl,Goog,Nasd,techSec_df]\n",
    "for df_index in range(len(all_df))\n",
    "    all_df[df_index].rename(columns={'Close/Last':all_df_name[df_index] +' Close/Last'},inplace=True)\n",
    "    all_df[df_index].rename(columns={'Open':all_df_name[df_index] +' Open'},inplace=True)\n",
    "    all_df[df_index].rename(columns={'High':all_df_name[df_index] +' High'},inplace=True)\n",
    "    all_df[df_index].rename(columns={'Low':all_df_name[df_index] +' Low'},inplace=True)\n",
    "\n",
    "    \n",
    "stock_df_name = ['AMZN','APPL','GOOG']\n",
    "stock_df =[Amzn,Appl,Goog]\n",
    "for df_index in range(len(stock_df)):\n",
    "    stock_df[df_index].rename(columns={'Volume':stock_df_name[df_index] +' Volume'},inplace=True)"
   ]
  },
  {
   "cell_type": "code",
   "execution_count": null,
   "id": "723bead0",
   "metadata": {},
   "outputs": [],
   "source": [
    "Amzn"
   ]
  },
  {
   "cell_type": "code",
   "execution_count": null,
   "id": "74f3e6b0",
   "metadata": {},
   "outputs": [],
   "source": [
    "usBond_df = pd.read_excel('United States 10-Year Bond Yield Historical Data (1).xlsx')\n",
    "usBond_df "
   ]
  },
  {
   "cell_type": "code",
   "execution_count": null,
   "id": "222e765b",
   "metadata": {},
   "outputs": [],
   "source": [
    "def dateFormat(x):\n",
    "    month_code = {'Jan': 'January', \n",
    "      'Feb': 'February', \n",
    "      'Mar': 'March', \n",
    "      'Apr': 'April', \n",
    "      'May': 'May', \n",
    "      'Jun': 'June', \n",
    "      'Jul': 'July', \n",
    "      'Aug': 'August', \n",
    "      'Sep': 'September', \n",
    "      'Oct': 'October', \n",
    "      'Nov': 'November', \n",
    "      'Dec': 'December'}\n",
    "    new_x = month_code[x[:3]] + x[3:]\n",
    "    \n",
    "    d = datetime.datetime.strptime(new_x, '%B %d, %Y')\n",
    "    return d.strftime('%Y-%d-%m')"
   ]
  },
  {
   "cell_type": "code",
   "execution_count": null,
   "id": "5e39c061",
   "metadata": {},
   "outputs": [],
   "source": [
    "usBond_df.Date = usBond_df.Date.apply(dateFormat)\n",
    "usBond_df"
   ]
  },
  {
   "cell_type": "code",
   "execution_count": null,
   "id": "08ba6853",
   "metadata": {},
   "outputs": [],
   "source": [
    "usBond_df['Date'] = pd.to_datetime(usBond_df.Date , format = '%Y-%d-%m')\n",
    "usBond_df.index = usBond_df.Date\n",
    "usBond_df.drop('Date',axis = 1,inplace = True)\n",
    "usBond_df = usBond_df[['Price','Change %']]\n",
    "usBond_df.columns = ['Us Bond price', 'Us Bond price change(%)']"
   ]
  },
  {
   "cell_type": "code",
   "execution_count": null,
   "id": "e96ef6b3",
   "metadata": {},
   "outputs": [],
   "source": [
    "usBond_df"
   ]
  },
  {
   "cell_type": "code",
   "execution_count": null,
   "id": "4d21181f",
   "metadata": {},
   "outputs": [],
   "source": [
    "for col_features in ['Close/Last']:#,'Open','High','Low']:\n",
    "    for df_index in range(len(all_df)):\n",
    "        name = all_df_name[df_index] +' ' + col_features\n",
    "        \n",
    "        usBond_df = usBond_df.join(all_df[df_index][[name]])\n",
    "        \n",
    "for df_index in range(len(stock_df)):\n",
    "    name = stock_df_name[df_index] +' Volume'\n",
    "    usBond_df = usBond_df.join(stock_df[df_index][[name]])\n",
    "data = usBond_df.copy()"
   ]
  },
  {
   "cell_type": "code",
   "execution_count": null,
   "id": "cca0450f",
   "metadata": {},
   "outputs": [],
   "source": [
    "data"
   ]
  },
  {
   "cell_type": "markdown",
   "id": "4a3bf7db",
   "metadata": {},
   "source": [
    "# Fill missing value "
   ]
  },
  {
   "cell_type": "code",
   "execution_count": null,
   "id": "964e04ef",
   "metadata": {},
   "outputs": [],
   "source": [
    "data.info()"
   ]
  },
  {
   "cell_type": "code",
   "execution_count": null,
   "id": "cc5457d5",
   "metadata": {},
   "outputs": [],
   "source": [
    "nul_data = pd.isnull(data['GOOG Close/Last']) \n",
    "data[nul_data]"
   ]
  },
  {
   "cell_type": "code",
   "execution_count": null,
   "id": "f36d3cd3",
   "metadata": {},
   "outputs": [],
   "source": [
    "# Create figure\n",
    "fig = plt.figure(figsize=(12, 8))\n",
    "\n",
    "# Plot time series\n",
    "plt.plot(data[data.columns[2]], color='green',label='AMZN')\n",
    "plt.plot(data[data.columns[3]], color='blue',label='APPL')\n",
    "plt.plot(data[data.columns[4]], color='red',label='GOOG')\n",
    "\n",
    "# Add title and labels\n",
    "plt.title('Stock price')\n",
    "plt.xlabel('Date')\n",
    "plt.ylabel('price')\n",
    "plt.legend()\n",
    "plt.tight_layout()\n",
    "plt.show() "
   ]
  },
  {
   "cell_type": "code",
   "execution_count": null,
   "id": "03102c68",
   "metadata": {},
   "outputs": [],
   "source": [
    "for fillna_col in data.columns[2:]:\n",
    "    data[fillna_col] = data[fillna_col].interpolate(option='spline')"
   ]
  },
  {
   "cell_type": "code",
   "execution_count": null,
   "id": "4697513d",
   "metadata": {},
   "outputs": [],
   "source": [
    "data.info()"
   ]
  },
  {
   "cell_type": "code",
   "execution_count": null,
   "id": "3c4b09f2",
   "metadata": {},
   "outputs": [],
   "source": [
    "# Create figure\n",
    "fig = plt.figure(figsize=(12, 8))\n",
    "\n",
    "# Plot time series\n",
    "plt.plot(data[data.columns[2]], color='green',label='AMZN')\n",
    "plt.plot(data[data.columns[3]], color='blue',label='APPL')\n",
    "plt.plot(data[data.columns[4]], color='red',label='GOOG')\n",
    "\n",
    "# Add title and labels\n",
    "plt.title('Stock price')\n",
    "plt.xlabel('Date')\n",
    "plt.ylabel('price')\n",
    "plt.legend()\n",
    "plt.tight_layout()\n",
    "plt.show() "
   ]
  },
  {
   "cell_type": "code",
   "execution_count": null,
   "id": "33374a3b",
   "metadata": {},
   "outputs": [],
   "source": [
    "data"
   ]
  },
  {
   "cell_type": "markdown",
   "id": "c1e8f367",
   "metadata": {},
   "source": [
    "# competitor Analysis "
   ]
  },
  {
   "cell_type": "code",
   "execution_count": null,
   "id": "957bb731",
   "metadata": {},
   "outputs": [],
   "source": [
    "retscomp = data[data.columns[2:5]].pct_change()\n",
    "corr = retscomp.corr()\n",
    "corr"
   ]
  },
  {
   "cell_type": "markdown",
   "id": "e38506d6",
   "metadata": {},
   "source": [
    "You can do scatter matrix with all the competitors data and find the kde of each m KDE will determine if your chart is more normally distributed leaning to the\n",
    "\n",
    "- left: Returns are more likely to be negative in the long run\n",
    "- centre: Returns are more likely to be 0 in the long run\n",
    "- right: Returns are more likely to be positive in the long run"
   ]
  },
  {
   "cell_type": "code",
   "execution_count": null,
   "id": "75df8cd9",
   "metadata": {},
   "outputs": [],
   "source": [
    "pd.plotting.scatter_matrix(retscomp, diagonal='kde', figsize=(10, 10));"
   ]
  },
  {
   "cell_type": "code",
   "execution_count": null,
   "id": "e6701afa",
   "metadata": {},
   "outputs": [],
   "source": [
    "plt.imshow(corr, cmap='hot', interpolation='none')\n",
    "plt.colorbar()\n",
    "plt.xticks(range(len(corr)), corr.columns)\n",
    "plt.yticks(range(len(corr)), corr.columns);"
   ]
  },
  {
   "cell_type": "code",
   "execution_count": null,
   "id": "156d18eb",
   "metadata": {},
   "outputs": [],
   "source": [
    "retscomp"
   ]
  },
  {
   "cell_type": "code",
   "execution_count": null,
   "id": "a31a761a",
   "metadata": {},
   "outputs": [],
   "source": [
    "retscomp.pct_change()"
   ]
  },
  {
   "cell_type": "code",
   "execution_count": null,
   "id": "3aef5be9",
   "metadata": {},
   "outputs": [],
   "source": [
    "plt.scatter(retscomp.mean(), retscomp.std())\n",
    "plt.xlabel('Expected returns')\n",
    "plt.ylabel('Risk')\n",
    "for label, x, y in zip(retscomp.columns, retscomp.mean(), retscomp.std()):\n",
    "    plt.annotate(\n",
    "        label, \n",
    "        xy = (x, y), xytext = (20, -20),\n",
    "        textcoords = 'offset points', ha = 'right', va = 'bottom',\n",
    "        bbox = dict(boxstyle = 'round,pad=0.5', fc = 'yellow', alpha = 0.5),\n",
    "        arrowprops = dict(arrowstyle = '->', connectionstyle = 'arc3,rad=0'))"
   ]
  },
  {
   "cell_type": "markdown",
   "id": "02ecb8eb",
   "metadata": {},
   "source": [
    "# Time series Analysis"
   ]
  },
  {
   "cell_type": "code",
   "execution_count": null,
   "id": "b34dc7fc",
   "metadata": {},
   "outputs": [],
   "source": [
    "df = data.copy()"
   ]
  },
  {
   "cell_type": "code",
   "execution_count": null,
   "id": "b392f65d",
   "metadata": {},
   "outputs": [],
   "source": [
    "fig, axes = plt.subplots(nrows=5, ncols=2, dpi=120, figsize=(10,6))\n",
    "\n",
    "\n",
    "for i, ax in enumerate(axes.flatten()):\n",
    "    data = df[df.columns[i]]\n",
    "    ax.plot(data, color='red', linewidth=1)\n",
    "    # Decorations\n",
    "    ax.set_title(df.columns[i])\n",
    "    ax.xaxis.set_ticks_position('none')\n",
    "    ax.yaxis.set_ticks_position('none')\n",
    "    ax.spines[\"top\"].set_alpha(0)\n",
    "    ax.tick_params(labelsize=6)\n",
    "\n",
    "plt.tight_layout();"
   ]
  },
  {
   "cell_type": "markdown",
   "id": "49cca952",
   "metadata": {},
   "source": [
    "# Machine learning"
   ]
  },
  {
   "cell_type": "code",
   "execution_count": null,
   "id": "9decc67a",
   "metadata": {},
   "outputs": [],
   "source": [
    "import math\n",
    "import numpy as np\n",
    "from sklearn.model_selection import train_test_split\n",
    "from sklearn import preprocessing\n",
    "\n",
    "from sklearn.linear_model import LinearRegression\n",
    "from sklearn.neighbors import KNeighborsRegressor\n",
    "\n",
    "from sklearn.linear_model import Ridge\n",
    "from sklearn.preprocessing import PolynomialFeatures\n",
    "from sklearn.pipeline import make_pipeline"
   ]
  },
  {
   "cell_type": "code",
   "execution_count": null,
   "id": "6fa2dcb1",
   "metadata": {},
   "outputs": [],
   "source": [
    "Amzn"
   ]
  },
  {
   "cell_type": "code",
   "execution_count": null,
   "id": "b018f68a",
   "metadata": {},
   "outputs": [],
   "source": [
    "def creatDf(df,name):\n",
    "    dfreg = df.loc[:,[name+' Close/Last',name +' Volume']]\n",
    "    dfreg['HL_PCT'] = (df[name+' High'] - df[name+' Low']) / df[name+' Close/Last'] * 100.0\n",
    "    dfreg['PCT_change'] = (df[name+' Close/Last'] - df[name+' Open']) / df[name+' Open'] * 100.0\n",
    "    dfreg.head()\n",
    "    \n",
    "    dfreg = usBond_df[['Us Bond price','Us Bond price change(%)','NASDAQ_COMP Close/Last','TECH_SECTOR Close/Last']].join(dfreg)\n",
    "    dfreg = dfreg.sort_index()\n",
    "    for fillna_col in dfreg.columns[2:]:\n",
    "        dfreg[fillna_col] = dfreg[fillna_col].interpolate(option='spline')\n",
    "    dfreg = dfreg.fillna(df.mean())\n",
    "    return dfreg"
   ]
  },
  {
   "cell_type": "code",
   "execution_count": null,
   "id": "d09d373d",
   "metadata": {},
   "outputs": [],
   "source": [
    "Amzn_ml = creatDf(Amzn,'AMZN')\n",
    "Appl_ml = creatDf(Appl,'APPL')\n",
    "Goog_ml = creatDf(Goog,'GOOG')"
   ]
  },
  {
   "cell_type": "markdown",
   "id": "463d4154",
   "metadata": {},
   "source": [
    "# Preprocessing"
   ]
  },
  {
   "cell_type": "code",
   "execution_count": null,
   "id": "3813cb12",
   "metadata": {},
   "outputs": [],
   "source": [
    "Appl_ml"
   ]
  },
  {
   "cell_type": "code",
   "execution_count": null,
   "id": "fb829993",
   "metadata": {},
   "outputs": [],
   "source": [
    "def Preprocessing(data,name):\n",
    "    # Fill missing value\n",
    "    for fillna_col in data.columns[2:]:\n",
    "        data[fillna_col] = data[fillna_col].interpolate(option='spline')\n",
    "    data.fillna(value=-99999, inplace=True)\n",
    "\n",
    "    # We want to separate 1 percent of the data to forecast\n",
    "    forecast_out = int(math.ceil(0.01 * len(data)))\n",
    "\n",
    "    # Separating the label here, we want to predict the AdjClose\n",
    "    forecast_col = name +' Close/Last'\n",
    "    data['label'] = data[forecast_col].shift(-forecast_out)\n",
    "\n",
    "    X = np.array(data.drop(['label'], 1))\n",
    "\n",
    "    # Scale the X so that everyone can have the same distribution for linear regression\n",
    "    X = preprocessing.scale(X)\n",
    "\n",
    "    # Finally We want to find Data Series of late X and early X (train) for model generation and evaluation\n",
    "    X_forecast = X[-forecast_out:]\n",
    "    X = X[:-forecast_out]\n",
    "\n",
    "    # Separate label and identify it as y\n",
    "    y = np.array(data['label'])\n",
    "    y = y[:-forecast_out]\n",
    "\n",
    "    # Separation of training and testing of model by cross validation train test split\n",
    "    X_train, X_test, y_train, y_test = train_test_split(X, y, test_size=0.2)\n",
    "    return X,X_forecast,y,X_train, X_test, y_train, y_test "
   ]
  },
  {
   "cell_type": "code",
   "execution_count": null,
   "id": "edb5183f",
   "metadata": {},
   "outputs": [],
   "source": [
    "X,X_forecast,y,X_train, X_test, y_train, y_test  = Preprocessing(Amzn_ml,'AMZN')"
   ]
  },
  {
   "cell_type": "code",
   "execution_count": null,
   "id": "d363ac7b",
   "metadata": {},
   "outputs": [],
   "source": [
    "def train(X_train,y_train):\n",
    "    # Linear regression\n",
    "    clfreg = LinearRegression(n_jobs=-1)\n",
    "    clfreg.fit(X_train, y_train)\n",
    "\n",
    "    # Quadratic Regression 2\n",
    "    clfpoly2 = make_pipeline(PolynomialFeatures(2), Ridge())\n",
    "    clfpoly2.fit(X_train, y_train)\n",
    "\n",
    "    # Quadratic Regression 3\n",
    "    clfpoly3 = make_pipeline(PolynomialFeatures(3), Ridge())\n",
    "    clfpoly3.fit(X_train, y_train)\n",
    "\n",
    "    # KNN Regression\n",
    "    clfknn = KNeighborsRegressor(n_neighbors=2)\n",
    "    clfknn.fit(X_train, y_train)\n",
    "    return clfreg,clfpoly2,clfpoly3,clfknn\n"
   ]
  },
  {
   "cell_type": "code",
   "execution_count": null,
   "id": "9d2a8e81",
   "metadata": {},
   "outputs": [],
   "source": [
    "def evaluateTest(X_test,y_test,model_list):\n",
    "    confidencereg =model_list[0].score(X_test, y_test)\n",
    "    confidencepoly2 = model_list[1].score(X_test,y_test)\n",
    "    confidencepoly3 = model_list[2].score(X_test,y_test)\n",
    "    confidenceknn =model_list[3].score(X_test, y_test)\n",
    "    return confidencereg,confidencepoly2,confidencepoly3,confidenceknn"
   ]
  },
  {
   "cell_type": "code",
   "execution_count": null,
   "id": "427aef13",
   "metadata": {},
   "outputs": [],
   "source": [
    "def forecast(X_forecast,model,data,name):\n",
    "    # Printing the forecast\n",
    "    forecast_data = data.copy()\n",
    "    forecast_set = model.predict(X_forecast)\n",
    "    forecast_data['Forecast'] = np.nan\n",
    "    last_date = forecast_data.iloc[-1].name\n",
    "    last_unix = last_date\n",
    "    next_unix = last_unix + datetime.timedelta(days=1)\n",
    "\n",
    "    for i in forecast_set:\n",
    "        next_date = next_unix\n",
    "        next_unix += datetime.timedelta(days=1)\n",
    "        forecast_data.loc[next_date] = [np.nan for _ in range(len(forecast_data.columns)-1)]+[i]\n",
    "    forecast_data[name +' Close/Last'].tail(500).plot()\n",
    "    forecast_data['Forecast'].tail(500).plot()\n",
    "    plt.rcParams['figure.figsize']=(15,7)\n",
    "    plt.legend(loc=4)\n",
    "    plt.title(name + ' prediction')\n",
    "    plt.xlabel('Date')\n",
    "    plt.ylabel('Price')\n",
    "    plt.show()\n",
    "\n",
    "def forecasts(X_forecast,model_list,merge_data,name):\n",
    "    forecast(X_forecast,model_list[0],merge_data, name)\n",
    "    forecast(X_forecast,model_list[1],merge_data, name)\n",
    "    forecast(X_forecast,model_list[2],merge_data, name)\n",
    "    forecast(X_forecast,model_list[3],merge_data, name)"
   ]
  },
  {
   "cell_type": "markdown",
   "id": "3637a017",
   "metadata": {},
   "source": [
    "# All Stock price"
   ]
  },
  {
   "cell_type": "code",
   "execution_count": null,
   "id": "081335f9",
   "metadata": {},
   "outputs": [],
   "source": [
    "def getResult(data,name):\n",
    "    merge_data = creatDf(data,name)\n",
    "    X,X_forecast,y,X_train, X_test, y_train, y_test  = Preprocessing(merge_data,name)\n",
    "    clfreg,clfpoly2,clfpoly3,clfknn = train(X_train,y_train)\n",
    "    confidencereg,confidencepoly2,confidencepoly3,confidenceknn = evaluateTest(X_test,y_test,[clfreg,clfpoly2,clfpoly3,clfknn])\n",
    "\n",
    "    return confidencereg,confidencepoly2,confidencepoly3,confidenceknn,clfreg,clfpoly2,clfpoly3,clfknn,X_forecast\n",
    "\n",
    "\n",
    "\n",
    "def getForecast(X_forecast,model_list,merge_data,name):\n",
    "    forecasts(X_forecast,model_list,merge_data,name)"
   ]
  },
  {
   "cell_type": "code",
   "execution_count": null,
   "id": "8c209c94",
   "metadata": {},
   "outputs": [],
   "source": [
    "stock_df[0]"
   ]
  },
  {
   "cell_type": "code",
   "execution_count": null,
   "id": "499dea9d",
   "metadata": {},
   "outputs": [],
   "source": [
    "result = []\n",
    "stock_model = [] \n",
    "df_forecast = []\n",
    "for df_index in range(len(stock_df)):\n",
    "    result.append(getResult(stock_df[df_index],stock_df_name[df_index])[:4])\n",
    "    stock_model.append(getResult(stock_df[df_index],stock_df_name[df_index])[4:-1])\n",
    "    df_forecast.append(getResult(stock_df[df_index],stock_df_name[df_index])[-1])"
   ]
  },
  {
   "cell_type": "markdown",
   "id": "640f0677",
   "metadata": {},
   "source": [
    "# Save data and model"
   ]
  },
  {
   "cell_type": "code",
   "execution_count": null,
   "id": "61446c1e",
   "metadata": {},
   "outputs": [],
   "source": [
    "import pickle\n",
    "\n",
    "model_name = ['linear','poly2','poly3','knn'] \n",
    "# pd.DataFrame(df_forecast[0]).to_csv('AMZN_X_forecast.csv')\n",
    "# pd.DataFrame(df_forecast[1]).to_csv('APPL_X_forecast.csv')\n",
    "# pd.DataFrame(df_forecast[2]).to_csv('GOOG_X_forecast.csv')\n",
    "\n",
    "# for idx in range(len(model_name)):\n",
    "#     filename = 'Amzn_{}_model.pkl'.format(model_name[idx])\n",
    "#     pickle.dump(stock_model[0][idx], open(filename, 'wb'))\n",
    "\n",
    "# for idx in range(len(model_name)):\n",
    "#     filename = 'Appl_{}_model.pkl'.format(model_name[idx])\n",
    "#     pickle.dump(stock_model[1][idx], open(filename, 'wb'))\n",
    "\n",
    "# for idx in range(len(model_name)):\n",
    "#     filename = 'Goog_{}_model.pkl'.format(model_name[idx])\n",
    "#     pickle.dump(stock_model[2][idx], open(filename, 'wb'))\n"
   ]
  },
  {
   "cell_type": "markdown",
   "id": "17b14486",
   "metadata": {},
   "source": [
    "# Load Saved csv data"
   ]
  },
  {
   "cell_type": "code",
   "execution_count": null,
   "id": "b4ded520",
   "metadata": {},
   "outputs": [],
   "source": [
    "# load data\n",
    "data_forecast=[]\n",
    "for name in stock_df_name:\n",
    "    data_forecast.append(np.array(pd.read_csv('{}_X_forecast.csv'.format(name)).iloc[:,1:]))\n",
    "\n",
    "# load model\n",
    "Amzn_model = []\n",
    "for idx in model_name:\n",
    "    Amzn_model.append(pickle.load(open('Amzn_{}_model.pkl'.format(idx), 'rb')))\n",
    "    \n",
    "Appl_model = []\n",
    "for idx in model_name:\n",
    "    Appl_model.append(pickle.load(open('Appl_{}_model.pkl'.format(idx), 'rb')))\n",
    "    \n",
    "Goog_model = []\n",
    "for idx in model_name:\n",
    "    Goog_model.append(pickle.load(open('Goog_{}_model.pkl'.format(idx), 'rb')))"
   ]
  },
  {
   "cell_type": "markdown",
   "id": "4e36d8af",
   "metadata": {},
   "source": [
    "# Rerun the saved model result"
   ]
  },
  {
   "cell_type": "code",
   "execution_count": null,
   "id": "0597afea",
   "metadata": {},
   "outputs": [],
   "source": [
    "# result_df = pd.DataFrame(result)\n",
    "# result_df.index = ['AMZN data','APPL data','GOOG data']\n",
    "# result_df.columns = ['Linear regression score','Polynomial 2nd regression score','Polynomial 3rd regression score','KNN score']\n",
    "# result_df.to_csv('stock_prediction_result.csv')\n",
    "result_df = pd.read_csv('stock_prediction_result.csv',index_col = 0)\n",
    "result_df"
   ]
  },
  {
   "cell_type": "code",
   "execution_count": null,
   "id": "c6e21501",
   "metadata": {
    "scrolled": true
   },
   "outputs": [],
   "source": [
    "getForecast(data_forecast[0],Amzn_model,Amzn_ml,'AMZN')"
   ]
  },
  {
   "cell_type": "code",
   "execution_count": null,
   "id": "dc2e8699",
   "metadata": {},
   "outputs": [],
   "source": [
    "getForecast(data_forecast[1],Appl_model,Appl_ml,'APPL')"
   ]
  },
  {
   "cell_type": "code",
   "execution_count": null,
   "id": "ca553a7b",
   "metadata": {},
   "outputs": [],
   "source": [
    "getForecast(data_forecast[2],Goog_model,Goog_ml,'GOOG')"
   ]
  }
 ],
 "metadata": {
  "kernelspec": {
   "display_name": "Python 3 (ipykernel)",
   "language": "python",
   "name": "python3"
  },
  "language_info": {
   "codemirror_mode": {
    "name": "ipython",
    "version": 3
   },
   "file_extension": ".py",
   "mimetype": "text/x-python",
   "name": "python",
   "nbconvert_exporter": "python",
   "pygments_lexer": "ipython3",
   "version": "3.7.7"
  }
 },
 "nbformat": 4,
 "nbformat_minor": 5
}
